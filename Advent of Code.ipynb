{
 "cells": [
  {
   "cell_type": "markdown",
   "id": "c93fcfa6-b9fa-41ed-a5d7-cbba8e134f23",
   "metadata": {},
   "source": [
    "# 🎅🤶 Advent of Code 2021 🌟☃️"
   ]
  },
  {
   "cell_type": "markdown",
   "id": "e1f6e724-5c46-4301-afbb-78021e5a210d",
   "metadata": {},
   "source": [
    "https://adventofcode.com/"
   ]
  },
  {
   "cell_type": "markdown",
   "id": "492922c7-8048-4df4-b681-ccbd922b2cbd",
   "metadata": {
    "tags": []
   },
   "source": [
    "# Day 1"
   ]
  },
  {
   "cell_type": "code",
   "execution_count": 44,
   "id": "44e0ba30-6cad-4919-8db5-d198cf133b6d",
   "metadata": {},
   "outputs": [],
   "source": [
    "import pandas as pd\n",
    "import os\n",
    "\n",
    "def load_data():\n",
    "    return pd.read_csv(os.path.join(\".\", \"data\", \"1.csv\"), header=None).squeeze()"
   ]
  },
  {
   "cell_type": "markdown",
   "id": "56813adc-d7aa-4d24-bf09-b3d58251e8c0",
   "metadata": {},
   "source": [
    "### Part 1"
   ]
  },
  {
   "cell_type": "code",
   "execution_count": 44,
   "id": "0ef900ce-64f2-4e21-86d8-84201873a529",
   "metadata": {},
   "outputs": [],
   "source": [
    "def get_n_times_increased():\n",
    "    return (load_data().diff().dropna() > 0.).aggregate(sum)"
   ]
  },
  {
   "cell_type": "code",
   "execution_count": 45,
   "id": "0603db00-1b09-4607-9cad-370b28f1f5e3",
   "metadata": {},
   "outputs": [
    {
     "data": {
      "text/plain": [
       "1527"
      ]
     },
     "execution_count": 45,
     "metadata": {},
     "output_type": "execute_result"
    }
   ],
   "source": [
    "get_n_times_increased()"
   ]
  },
  {
   "cell_type": "markdown",
   "id": "d500e074-b6b9-4ffa-a3a2-2dbfd18d712a",
   "metadata": {},
   "source": [
    "### Part 2"
   ]
  },
  {
   "cell_type": "code",
   "execution_count": 54,
   "id": "74d6ce4f-f078-40f6-855e-1aea193a2503",
   "metadata": {},
   "outputs": [],
   "source": [
    "def get_n_times_sum_increased():\n",
    "    return (load_data().rolling(3).sum().diff() > 0.).aggregate(sum)"
   ]
  },
  {
   "cell_type": "code",
   "execution_count": 55,
   "id": "5ced6b10-0cc6-4da9-a9da-3fd40aa6bf5a",
   "metadata": {},
   "outputs": [
    {
     "data": {
      "text/plain": [
       "1575"
      ]
     },
     "execution_count": 55,
     "metadata": {},
     "output_type": "execute_result"
    }
   ],
   "source": [
    "get_n_times_sum_increased()"
   ]
  },
  {
   "cell_type": "markdown",
   "id": "121321e1-621e-4e31-b388-b6a742b37675",
   "metadata": {
    "tags": []
   },
   "source": [
    "# Day 2"
   ]
  },
  {
   "cell_type": "code",
   "execution_count": 125,
   "id": "6eae1dc4-b327-4b50-a289-76d1e7035b25",
   "metadata": {},
   "outputs": [],
   "source": [
    "import pandas as pd\n",
    "import os\n",
    "\n",
    "def load_data():\n",
    "    df = pd.read_csv(os.path.join(\".\", \"data\", \"2.csv\"), header=None)\n",
    "    df.columns = [\"raw\"]\n",
    "    df = df[\"raw\"].str.split(expand = True)\n",
    "    df.columns = [\"direction\", \"magnitude\"]\n",
    "    df[\"magnitude\"] = df[\"magnitude\"].astype(int)\n",
    "    return df"
   ]
  },
  {
   "cell_type": "markdown",
   "id": "7ef5ef54-ccc3-49ae-bd6a-9513a23d4d5b",
   "metadata": {},
   "source": [
    "### Part 1"
   ]
  },
  {
   "cell_type": "code",
   "execution_count": 125,
   "id": "a7b3ba22-9da6-4265-8243-413dc61d9dc7",
   "metadata": {},
   "outputs": [],
   "source": [
    "def get_product_of_horizontal_and_vertical_location():\n",
    "    df = load_data()\n",
    "    agg_df = df.groupby(\"direction\").aggregate({\"magnitude\": sum})\n",
    "    return (agg_df.loc[\"down\", \"magnitude\"] - agg_df.loc[\"up\", \"magnitude\"])*agg_df.loc[\"forward\", \"magnitude\"]"
   ]
  },
  {
   "cell_type": "code",
   "execution_count": 126,
   "id": "93a10e9d-16f0-4694-a71a-50af8ccd4de4",
   "metadata": {},
   "outputs": [
    {
     "data": {
      "text/plain": [
       "1762050"
      ]
     },
     "execution_count": 126,
     "metadata": {},
     "output_type": "execute_result"
    }
   ],
   "source": [
    "get_product_of_horizontal_and_vertical_location()"
   ]
  },
  {
   "cell_type": "markdown",
   "id": "b347cc15-abe3-489e-9baf-f37d3bdad301",
   "metadata": {},
   "source": [
    "### Part 2"
   ]
  },
  {
   "cell_type": "code",
   "execution_count": 123,
   "id": "147b022c-9338-43b6-b3a6-cff24455fcbd",
   "metadata": {},
   "outputs": [],
   "source": [
    "def get_product_of_horizontal_and_vertical_location():\n",
    "    df = load_data()\n",
    "    for direction in df[\"direction\"].unique():\n",
    "        df[direction] = (df[\"direction\"] == direction)*df[\"magnitude\"] # change in each direction at each time step\n",
    "    df[\"aim\"] = df[\"down\"].cumsum() - df[\"up\"].cumsum()\n",
    "    df[\"horizontal\"] = df[\"forward\"].cumsum()\n",
    "    df[\"depth\"] = (df[\"aim\"]*df[\"forward\"]).cumsum()\n",
    "    return (df[\"depth\"]*df[\"horizontal\"]).values[-1]"
   ]
  },
  {
   "cell_type": "code",
   "execution_count": 124,
   "id": "a208f1a3-97b1-45fb-89a1-a1a0ab273327",
   "metadata": {},
   "outputs": [
    {
     "data": {
      "text/plain": [
       "1855892637"
      ]
     },
     "execution_count": 124,
     "metadata": {},
     "output_type": "execute_result"
    }
   ],
   "source": [
    "get_product_of_horizontal_and_vertical_location()"
   ]
  },
  {
   "cell_type": "markdown",
   "id": "3e768f96-d079-4c90-a356-5b841355770d",
   "metadata": {},
   "source": [
    "# Day 3"
   ]
  },
  {
   "cell_type": "markdown",
   "id": "98f8c206-8af6-4461-82c4-4a88bbaa26fb",
   "metadata": {},
   "source": [
    "### Part 1"
   ]
  },
  {
   "cell_type": "code",
   "execution_count": 198,
   "id": "20145089-6213-4e98-833b-4cfa380d0a0e",
   "metadata": {},
   "outputs": [],
   "source": [
    "import os\n",
    "\n",
    "def load_data():\n",
    "    with open(os.path.join(\".\", \"data\", \"3.csv\")) as file:\n",
    "        lines = file.readlines()\n",
    "    df = pd.DataFrame([list(l) for l in lines]).drop(12, axis=1) # drop newline column\n",
    "    return df\n",
    "    \n",
    "def get_power_consumption():\n",
    "    df = load_data()\n",
    "    gamma_rate = \"\".join(df.mode(axis=0).transpose().squeeze().values[:-1])\n",
    "    epsilon_rate = \"\".join([{\"0\":\"1\", \"1\": \"0\"}[c] for c in gamma_rate])\n",
    "    return int(gamma_rate, base=2)*int(epsilon_rate, base=2)"
   ]
  },
  {
   "cell_type": "code",
   "execution_count": 199,
   "id": "611ea1f1-fcf9-4701-908e-183b67f54e40",
   "metadata": {},
   "outputs": [
    {
     "data": {
      "text/plain": [
       "325902"
      ]
     },
     "execution_count": 199,
     "metadata": {},
     "output_type": "execute_result"
    }
   ],
   "source": [
    "get_power_consumption()"
   ]
  },
  {
   "cell_type": "markdown",
   "id": "7652a655-915e-4d1a-b15a-473b71120b5b",
   "metadata": {},
   "source": [
    "### Part 2"
   ]
  },
  {
   "cell_type": "code",
   "execution_count": 221,
   "id": "83c9950b-2e9d-49c6-8e67-bfbb75c30194",
   "metadata": {},
   "outputs": [],
   "source": [
    "def get_life_support_rating():\n",
    "    def _filter_by_bit_criterion(numbers_df, criterion, bit_i=0,):\n",
    "        if criterion == \"O2\":\n",
    "            numbers_df = numbers_df.loc[numbers_df[bit_i] == max(numbers_df[bit_i].mode()), :]\n",
    "        elif criterion == \"CO2\":\n",
    "            numbers_df = numbers_df.loc[numbers_df[bit_i] != max(numbers_df[bit_i].mode()), :]\n",
    "        else:\n",
    "            raise ValueError()\n",
    "        \n",
    "        if numbers_df.shape[0] == 1:\n",
    "            return int(\"\".join(numbers_df.iloc[0, :].transpose().squeeze().values), base=2)\n",
    "        \n",
    "        else:\n",
    "            return _filter_by_bit_criterion(numbers_df, criterion, bit_i + 1)\n",
    "\n",
    "    co2_scrubber_rating = _filter_by_bit_criterion(load_data(), criterion = \"CO2\")\n",
    "    oxygen_generator_rating = _filter_by_bit_criterion(load_data(), criterion = \"O2\")\n",
    "    return co2_scrubber_rating*oxygen_generator_rating"
   ]
  },
  {
   "cell_type": "code",
   "execution_count": 222,
   "id": "0109618c-7cb0-46df-a34f-80b34f8e3df7",
   "metadata": {},
   "outputs": [
    {
     "data": {
      "text/plain": [
       "482500"
      ]
     },
     "execution_count": 222,
     "metadata": {},
     "output_type": "execute_result"
    }
   ],
   "source": [
    "get_life_support_rating()"
   ]
  },
  {
   "cell_type": "markdown",
   "id": "b1cabb21-65f7-4063-8b8a-ced4177950f2",
   "metadata": {},
   "source": [
    "# Day 4"
   ]
  },
  {
   "cell_type": "code",
   "execution_count": null,
   "id": "60fd36e5-a083-4b9c-bfb4-6c30fdb644da",
   "metadata": {},
   "outputs": [],
   "source": [
    "# Want to identify winning board, and the score of that board.\n",
    "# The winning board is the board which first marks a row or column from the list of numbers.\n",
    "# The score of the winning board is the sum of all of its unmarked numbers, multiplied by the\n",
    "# last number that was read out. \n",
    "\n",
    "# Initialise a set of boards.\n",
    "# Receive the first number.\n",
    "# Update the board base on the number, check if any of the boards have won.\n",
    "# If none of the boards have won, read the second number and repeat 3.\n",
    "# If a board has won, compute the winning score and identify the winning board."
   ]
  },
  {
   "cell_type": "code",
   "execution_count": 103,
   "id": "416ae943-b1a7-4039-957e-014d7d83ed47",
   "metadata": {},
   "outputs": [],
   "source": [
    "import numpy as np\n",
    "import os\n",
    "import re\n",
    "\n",
    "class BingoBoard():\n",
    "    \n",
    "    def __init__(self, raw_board: list):\n",
    "        # raw_board is a length-n list of str,\n",
    "        # where each str contains n space-separated integers.\n",
    "        self.values = np.array([line.split() for line in raw_board], dtype = int)\n",
    "        self.marks = np.zeros(self.values.shape, dtype = bool)\n",
    "        self.n = self.values.shape[0]\n",
    "        self.in_play = True\n",
    "    \n",
    "    def update(self, number: int):\n",
    "        if self.in_play:\n",
    "            self.marks[(self.values == number)] = True\n",
    "        \n",
    "    def check_for_win(self, number: int):\n",
    "        if self.in_play and (np.any(self.marks.sum(axis = 0) == self.n) or\n",
    "                             np.any((self.marks.sum(axis = 1) == self.n))):\n",
    "            self.in_play = False\n",
    "            return np.sum(self.values[~self.marks])*number\n",
    "        else:\n",
    "            return False\n",
    "        \n",
    "def read_bingo_game(filepath: str):\n",
    "    with open(filepath) as file:\n",
    "        lines = file.readlines()\n",
    "    boards = []\n",
    "    current_board = []\n",
    "    for j, line in enumerate(lines):\n",
    "        if j == 0: # read list of called-out numbers\n",
    "            called_values = np.array(line.strip().split(\",\"), dtype = int)\n",
    "        \n",
    "        if j > 1: # read boards\n",
    "            if (re.search(\"[0-9]+\", line) is not None):\n",
    "                current_board.append(line.strip())\n",
    "            else:\n",
    "                boards.append(BingoBoard(current_board))\n",
    "                current_board = []\n",
    "            \n",
    "    return called_values, boards\n",
    "\n",
    "def evaluate_bingo_game(called_values: list, boards: list):\n",
    "    # called values is a list of integers.\n",
    "    # boards is a list of BingoBoards.\n",
    "    outcomes = [] # list of win indicators/board final scores\n",
    "    # round of play increases going down the rows,\n",
    "    # columns correspond to boards.\n",
    "    for called_value in called_values:\n",
    "        for board in boards:\n",
    "            board.update(called_value)\n",
    "        outcomes.append([board.check_for_win(called_value) for board in boards])\n",
    "    return np.array(outcomes)"
   ]
  },
  {
   "cell_type": "markdown",
   "id": "e3887ba3-d5a1-4a8f-8d55-70cbf142a61c",
   "metadata": {},
   "source": [
    "### Part 1"
   ]
  },
  {
   "cell_type": "code",
   "execution_count": 109,
   "id": "84ccccab-1975-42b5-8ee3-1ca87dde35ba",
   "metadata": {},
   "outputs": [],
   "source": [
    "# First win\n",
    "def get_first_win():\n",
    "    called_values, boards = read_bingo_game(os.path.join(\".\", \"data\", \"4.csv\"))\n",
    "    outcomes = evaluate_bingo_game(called_values, boards)\n",
    "    n_rounds = outcomes.shape[0]\n",
    "    for j in range(n_rounds):\n",
    "        max_outcome = max(outcomes[j, :])\n",
    "        if max_outcome > 0:\n",
    "            return max_outcome\n",
    "    "
   ]
  },
  {
   "cell_type": "code",
   "execution_count": 110,
   "id": "b12ba2f7-d05b-499b-a6ef-ff7cbd8c4d6c",
   "metadata": {},
   "outputs": [
    {
     "data": {
      "text/plain": [
       "49686"
      ]
     },
     "execution_count": 110,
     "metadata": {},
     "output_type": "execute_result"
    }
   ],
   "source": [
    "get_first_win()"
   ]
  },
  {
   "cell_type": "markdown",
   "id": "1397f50c-e92d-4e65-93be-e173576c6f2b",
   "metadata": {},
   "source": [
    "### Part 2"
   ]
  },
  {
   "cell_type": "code",
   "execution_count": 113,
   "id": "a065dbea-149f-4776-8a44-03b81c07487c",
   "metadata": {},
   "outputs": [],
   "source": [
    "# Last win\n",
    "def get_last_win():\n",
    "    called_values, boards = read_bingo_game(os.path.join(\".\", \"data\", \"4.csv\"))\n",
    "    outcomes = evaluate_bingo_game(called_values, boards)\n",
    "    n_rounds = outcomes.shape[0]\n",
    "    for j in range(outcomes.shape[0]):\n",
    "        max_outcome = max(outcomes[n_rounds - 1 - j, :])\n",
    "        if max_outcome > 0:\n",
    "            return max_outcome"
   ]
  },
  {
   "cell_type": "code",
   "execution_count": 114,
   "id": "fdf6a49a-3cd5-406d-a865-aa5bc65eec71",
   "metadata": {},
   "outputs": [
    {
     "data": {
      "text/plain": [
       "26878"
      ]
     },
     "execution_count": 114,
     "metadata": {},
     "output_type": "execute_result"
    }
   ],
   "source": [
    "get_last_win()"
   ]
  },
  {
   "cell_type": "markdown",
   "id": "b530ead4-3fd1-45a4-af59-c42f69c4c4ba",
   "metadata": {},
   "source": [
    "# Day 5"
   ]
  },
  {
   "cell_type": "markdown",
   "id": "6a9239bb-7e67-4d90-8a11-862805f34cf1",
   "metadata": {},
   "source": [
    "### Part 1"
   ]
  },
  {
   "cell_type": "code",
   "execution_count": 179,
   "id": "9ed79773-7b93-4183-baf1-7e588eecbfcc",
   "metadata": {},
   "outputs": [],
   "source": [
    "import pandas as pd\n",
    "import numpy as np\n",
    "import os"
   ]
  },
  {
   "cell_type": "code",
   "execution_count": 280,
   "id": "b21b83c0-56af-4832-a30e-5ff4a3dc2d27",
   "metadata": {},
   "outputs": [],
   "source": [
    "EPS = 1e-10\n",
    "\n",
    "def transform_vent_coords_to_points(vent_coords: str, ignore_diagonals = True):\n",
    "    origin, terminus = [\n",
    "        np.array(coords.split(\",\"), dtype = int)\n",
    "            for coords in re.findall(r\"[0-9,]+\", vent_coords)\n",
    "    ]\n",
    "    magnitude = np.sqrt(np.sum((terminus - origin)**2.))\n",
    "    direction = np.expand_dims((terminus - origin)/magnitude, axis = -1)\n",
    "    if np.all(np.abs(direction) > 0.7): # diagonal line\n",
    "        if ignore_diagonals:\n",
    "            return None\n",
    "        points = np.expand_dims(origin, axis = -1) + direction*np.arange(0., magnitude + EPS, np.sqrt(2))\n",
    "    else: # horizontal or vertical line\n",
    "        points = np.expand_dims(origin, axis = -1) + direction*np.arange(0., magnitude + EPS, 1.)\n",
    "    return np.rint(points).transpose()"
   ]
  },
  {
   "cell_type": "code",
   "execution_count": 281,
   "id": "d30609e0-30d7-4f35-96a9-441966dcfdb6",
   "metadata": {},
   "outputs": [],
   "source": [
    "def analyse_vent_coords_collection(ignore_diagonals = True):\n",
    "    with open(os.path.join(\".\", \"data\", \"5.csv\")) as file:\n",
    "        lines = file.readlines()\n",
    "    \n",
    "    vent_points = [transform_vent_coords_to_points(vc, ignore_diagonals) for vc in lines]\n",
    "    vent_points = np.concatenate([vp for vp in vent_points if vp is not None])\n",
    "    \n",
    "    # Concatenate all vent points\n",
    "    return pd.Series([tuple(vent_point) for vent_point in vent_points]).value_counts()"
   ]
  },
  {
   "cell_type": "code",
   "execution_count": 282,
   "id": "f9eb713b-495c-4476-9ec0-1f1e9f6168d9",
   "metadata": {},
   "outputs": [
    {
     "data": {
      "text/plain": [
       "5169"
      ]
     },
     "execution_count": 282,
     "metadata": {},
     "output_type": "execute_result"
    }
   ],
   "source": [
    "np.sum(analyse_vent_coords_collection(ignore_diagonals = True) >= 2)"
   ]
  },
  {
   "cell_type": "code",
   "execution_count": 283,
   "id": "768c4008-638b-4cfd-a527-c0367eac6a65",
   "metadata": {},
   "outputs": [
    {
     "data": {
      "text/plain": [
       "22083"
      ]
     },
     "execution_count": 283,
     "metadata": {},
     "output_type": "execute_result"
    }
   ],
   "source": [
    "np.sum(analyse_vent_coords_collection(ignore_diagonals = False) >= 2)"
   ]
  },
  {
   "cell_type": "markdown",
   "id": "fcdd1eba-2288-4070-ace9-863a3df64648",
   "metadata": {},
   "source": [
    "# Day 6"
   ]
  },
  {
   "cell_type": "code",
   "execution_count": 284,
   "id": "8af4a7d2-7893-4ae9-ad62-25089adbc93c",
   "metadata": {},
   "outputs": [],
   "source": [
    "# Each lanternfish creates a new lanternfish once every 7 days.\n",
    "# After being born, a lanternfish has a timer value of 8.\n",
    "# After giving birth, a lanternfish has a timer value of 6.\n",
    "# The lanternfish gives birth in the interval between timer values of 0 and 6.\n",
    "\n",
    "# How many lanternfish would there be after 80 days?"
   ]
  },
  {
   "cell_type": "markdown",
   "id": "e75d1273-52f7-4b94-840a-f7419a5cb34b",
   "metadata": {},
   "source": [
    "### Part 1"
   ]
  },
  {
   "cell_type": "code",
   "execution_count": 289,
   "id": "98f8efe1-82c2-4c9e-8a49-cd49c7ae8df4",
   "metadata": {},
   "outputs": [
    {
     "ename": "AttributeError",
     "evalue": "'numpy.ndarray' object has no attribute 'extend'",
     "output_type": "error",
     "traceback": [
      "\u001b[1;31m---------------------------------------------------------------------------\u001b[0m",
      "\u001b[1;31mAttributeError\u001b[0m                            Traceback (most recent call last)",
      "\u001b[1;32m<ipython-input-289-2bb294e17f2c>\u001b[0m in \u001b[0;36m<module>\u001b[1;34m\u001b[0m\n\u001b[1;32m----> 1\u001b[1;33m \u001b[0mnp\u001b[0m\u001b[1;33m.\u001b[0m\u001b[0marray\u001b[0m\u001b[1;33m(\u001b[0m\u001b[1;33m[\u001b[0m\u001b[1;36m2\u001b[0m\u001b[1;33m,\u001b[0m \u001b[1;36m3\u001b[0m\u001b[1;33m,\u001b[0m \u001b[1;36m4\u001b[0m\u001b[1;33m]\u001b[0m\u001b[1;33m)\u001b[0m\u001b[1;33m.\u001b[0m\u001b[0mextend\u001b[0m\u001b[1;33m(\u001b[0m\u001b[1;33m[\u001b[0m\u001b[1;36m1\u001b[0m\u001b[1;33m,\u001b[0m \u001b[1;36m2\u001b[0m\u001b[1;33m,\u001b[0m \u001b[1;36m3\u001b[0m\u001b[1;33m]\u001b[0m\u001b[1;33m)\u001b[0m\u001b[1;33m\u001b[0m\u001b[1;33m\u001b[0m\u001b[0m\n\u001b[0m",
      "\u001b[1;31mAttributeError\u001b[0m: 'numpy.ndarray' object has no attribute 'extend'"
     ]
    }
   ],
   "source": [
    "np.array([2, 3, 4]).extend([1, 2, 3])"
   ]
  },
  {
   "cell_type": "code",
   "execution_count": 291,
   "id": "a6cabe02-774e-489a-a1c6-fe581a51f65d",
   "metadata": {},
   "outputs": [],
   "source": [
    "def load_lanternfish_data():\n",
    "    with open(os.path.join(\".\", \"data\", \"6.csv\")) as file:\n",
    "        data = np.array(file.readlines()[0].strip().split(\",\"), dtype = int)\n",
    "    return data\n",
    "\n",
    "def increment_lanternfish_data(data, n_days = 1):\n",
    "    # data is a 1d np.array of integers.\n",
    "    giving_birth = (data == 0)\n",
    "    data[giving_birth] = 6\n",
    "    data[~giving_birth] = data[~giving_birth] - 1\n",
    "    data = np.concatenate([data, np.full(shape = giving_birth.sum(), fill_value = 8)])\n",
    "    if n_days - 1 == 0:\n",
    "        return data\n",
    "    else:\n",
    "        return increment_lanternfish_data(data, n_days - 1)"
   ]
  },
  {
   "cell_type": "code",
   "execution_count": 293,
   "id": "7f3586e5-4c21-44ce-b7b3-b9d2533b6ea0",
   "metadata": {},
   "outputs": [
    {
     "data": {
      "text/plain": [
       "array([1, 0, 1, 0, 4, 0, 4, 0, 1, 1, 0, 0, 4, 0, 3, 3, 3, 2, 0, 1, 1, 2,\n",
       "       3, 0, 0, 4, 0, 0, 3, 1, 4, 4, 4, 0, 0, 3, 4, 3, 0, 0, 3, 1, 0, 3,\n",
       "       0, 1, 1, 4, 0, 0, 4, 0, 0, 2, 3, 3, 0, 1, 2, 0, 4, 4, 3, 0, 3, 0,\n",
       "       1, 0, 4, 0, 0, 0, 2, 3, 0, 0, 4, 0, 4, 0, 0, 4, 0, 0, 3, 2, 1, 3,\n",
       "       0, 3, 0, 4, 2, 2, 0, 4, 0, 2, 0, 0, 3, 0, 3, 4, 1, 2, 0, 0, 0, 0,\n",
       "       2, 0, 1, 0, 4, 0, 0, 4, 0, 0, 0, 0, 3, 0, 3, 2, 0, 4, 0, 0, 4, 3,\n",
       "       3, 1, 0, 3, 4, 0, 0, 2, 2, 0, 0, 3, 1, 4, 4, 1, 3, 0, 3, 4, 3, 4,\n",
       "       2, 0, 3, 0, 4, 1, 3, 4, 2, 0, 2, 1, 3, 4, 3, 3, 0, 4, 0, 4, 0, 1,\n",
       "       1, 0, 3, 0, 0, 3, 1, 1, 1, 3, 0, 0, 4, 2, 0, 0, 4, 3, 3, 0, 4, 0,\n",
       "       2, 0, 2, 1, 1, 0, 0, 3, 0, 3, 0, 1, 1, 0, 0, 2, 4, 0, 1, 0, 2, 0,\n",
       "       3, 4, 0, 2, 3, 0, 0, 0, 0, 3, 2, 2, 3, 4, 0, 0, 0, 0, 0, 1, 3, 4,\n",
       "       2, 3, 1, 0, 0, 0, 2, 2, 0, 3, 0, 0, 3, 1, 0, 4, 0, 0, 1, 2, 3, 1,\n",
       "       4, 0, 0, 0, 4, 0, 0, 3, 0, 1, 3, 0, 0, 1, 3, 2, 3, 1, 2, 0, 0, 1,\n",
       "       0, 4, 3, 1, 2, 4, 0, 1, 2, 0, 1, 1, 0, 3])"
      ]
     },
     "execution_count": 293,
     "metadata": {},
     "output_type": "execute_result"
    }
   ],
   "source": [
    "increment_lanternfish_data(load_lanternfish_data())"
   ]
  },
  {
   "cell_type": "code",
   "execution_count": null,
   "id": "8bf5eeca-6dcc-4f3a-bbc9-52b6a311aac6",
   "metadata": {},
   "outputs": [],
   "source": []
  }
 ],
 "metadata": {
  "kernelspec": {
   "display_name": "Python 3",
   "language": "python",
   "name": "python3"
  },
  "language_info": {
   "codemirror_mode": {
    "name": "ipython",
    "version": 3
   },
   "file_extension": ".py",
   "mimetype": "text/x-python",
   "name": "python",
   "nbconvert_exporter": "python",
   "pygments_lexer": "ipython3",
   "version": "3.8.11"
  }
 },
 "nbformat": 4,
 "nbformat_minor": 5
}
