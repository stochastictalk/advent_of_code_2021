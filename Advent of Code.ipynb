{
 "cells": [
  {
   "cell_type": "markdown",
   "id": "c93fcfa6-b9fa-41ed-a5d7-cbba8e134f23",
   "metadata": {},
   "source": [
    "# 🎅🤶 Advent of Code 2021 🌟☃️"
   ]
  },
  {
   "cell_type": "markdown",
   "id": "e1f6e724-5c46-4301-afbb-78021e5a210d",
   "metadata": {},
   "source": [
    "https://adventofcode.com/"
   ]
  },
  {
   "cell_type": "markdown",
   "id": "492922c7-8048-4df4-b681-ccbd922b2cbd",
   "metadata": {
    "tags": []
   },
   "source": [
    "# Day 1"
   ]
  },
  {
   "cell_type": "code",
   "execution_count": 44,
   "id": "44e0ba30-6cad-4919-8db5-d198cf133b6d",
   "metadata": {},
   "outputs": [],
   "source": [
    "import pandas as pd\n",
    "import os\n",
    "\n",
    "def load_data():\n",
    "    return pd.read_csv(os.path.join(\".\", \"data\", \"1.csv\"), header=None).squeeze()"
   ]
  },
  {
   "cell_type": "markdown",
   "id": "56813adc-d7aa-4d24-bf09-b3d58251e8c0",
   "metadata": {},
   "source": [
    "### Part 1"
   ]
  },
  {
   "cell_type": "code",
   "execution_count": 44,
   "id": "0ef900ce-64f2-4e21-86d8-84201873a529",
   "metadata": {},
   "outputs": [],
   "source": [
    "def get_n_times_increased():\n",
    "    return (load_data().diff().dropna() > 0.).aggregate(sum)"
   ]
  },
  {
   "cell_type": "code",
   "execution_count": 45,
   "id": "0603db00-1b09-4607-9cad-370b28f1f5e3",
   "metadata": {},
   "outputs": [
    {
     "data": {
      "text/plain": [
       "1527"
      ]
     },
     "execution_count": 45,
     "metadata": {},
     "output_type": "execute_result"
    }
   ],
   "source": [
    "get_n_times_increased()"
   ]
  },
  {
   "cell_type": "markdown",
   "id": "d500e074-b6b9-4ffa-a3a2-2dbfd18d712a",
   "metadata": {},
   "source": [
    "### Part 2"
   ]
  },
  {
   "cell_type": "code",
   "execution_count": 54,
   "id": "74d6ce4f-f078-40f6-855e-1aea193a2503",
   "metadata": {},
   "outputs": [],
   "source": [
    "def get_n_times_sum_increased():\n",
    "    return (load_data().rolling(3).sum().diff() > 0.).aggregate(sum)"
   ]
  },
  {
   "cell_type": "code",
   "execution_count": 55,
   "id": "5ced6b10-0cc6-4da9-a9da-3fd40aa6bf5a",
   "metadata": {},
   "outputs": [
    {
     "data": {
      "text/plain": [
       "1575"
      ]
     },
     "execution_count": 55,
     "metadata": {},
     "output_type": "execute_result"
    }
   ],
   "source": [
    "get_n_times_sum_increased()"
   ]
  },
  {
   "cell_type": "markdown",
   "id": "121321e1-621e-4e31-b388-b6a742b37675",
   "metadata": {
    "tags": []
   },
   "source": [
    "# Day 2"
   ]
  },
  {
   "cell_type": "code",
   "execution_count": 125,
   "id": "6eae1dc4-b327-4b50-a289-76d1e7035b25",
   "metadata": {},
   "outputs": [],
   "source": [
    "import pandas as pd\n",
    "import os\n",
    "\n",
    "def load_data():\n",
    "    df = pd.read_csv(os.path.join(\".\", \"data\", \"2.csv\"), header=None)\n",
    "    df.columns = [\"raw\"]\n",
    "    df = df[\"raw\"].str.split(expand = True)\n",
    "    df.columns = [\"direction\", \"magnitude\"]\n",
    "    df[\"magnitude\"] = df[\"magnitude\"].astype(int)\n",
    "    return df"
   ]
  },
  {
   "cell_type": "markdown",
   "id": "7ef5ef54-ccc3-49ae-bd6a-9513a23d4d5b",
   "metadata": {},
   "source": [
    "### Part 1"
   ]
  },
  {
   "cell_type": "code",
   "execution_count": 125,
   "id": "a7b3ba22-9da6-4265-8243-413dc61d9dc7",
   "metadata": {},
   "outputs": [],
   "source": [
    "def get_product_of_horizontal_and_vertical_location():\n",
    "    df = load_data()\n",
    "    agg_df = df.groupby(\"direction\").aggregate({\"magnitude\": sum})\n",
    "    return (agg_df.loc[\"down\", \"magnitude\"] - agg_df.loc[\"up\", \"magnitude\"])*agg_df.loc[\"forward\", \"magnitude\"]"
   ]
  },
  {
   "cell_type": "code",
   "execution_count": 126,
   "id": "93a10e9d-16f0-4694-a71a-50af8ccd4de4",
   "metadata": {},
   "outputs": [
    {
     "data": {
      "text/plain": [
       "1762050"
      ]
     },
     "execution_count": 126,
     "metadata": {},
     "output_type": "execute_result"
    }
   ],
   "source": [
    "get_product_of_horizontal_and_vertical_location()"
   ]
  },
  {
   "cell_type": "markdown",
   "id": "b347cc15-abe3-489e-9baf-f37d3bdad301",
   "metadata": {},
   "source": [
    "### Part 2"
   ]
  },
  {
   "cell_type": "code",
   "execution_count": 123,
   "id": "147b022c-9338-43b6-b3a6-cff24455fcbd",
   "metadata": {},
   "outputs": [],
   "source": [
    "def get_product_of_horizontal_and_vertical_location():\n",
    "    df = load_data()\n",
    "    for direction in df[\"direction\"].unique():\n",
    "        df[direction] = (df[\"direction\"] == direction)*df[\"magnitude\"] # change in each direction at each time step\n",
    "    df[\"aim\"] = df[\"down\"].cumsum() - df[\"up\"].cumsum()\n",
    "    df[\"horizontal\"] = df[\"forward\"].cumsum()\n",
    "    df[\"depth\"] = (df[\"aim\"]*df[\"forward\"]).cumsum()\n",
    "    return (df[\"depth\"]*df[\"horizontal\"]).values[-1]"
   ]
  },
  {
   "cell_type": "code",
   "execution_count": 124,
   "id": "a208f1a3-97b1-45fb-89a1-a1a0ab273327",
   "metadata": {},
   "outputs": [
    {
     "data": {
      "text/plain": [
       "1855892637"
      ]
     },
     "execution_count": 124,
     "metadata": {},
     "output_type": "execute_result"
    }
   ],
   "source": [
    "get_product_of_horizontal_and_vertical_location()"
   ]
  },
  {
   "cell_type": "markdown",
   "id": "3e768f96-d079-4c90-a356-5b841355770d",
   "metadata": {},
   "source": [
    "# Day 3"
   ]
  },
  {
   "cell_type": "markdown",
   "id": "98f8c206-8af6-4461-82c4-4a88bbaa26fb",
   "metadata": {},
   "source": [
    "### Part 1"
   ]
  },
  {
   "cell_type": "code",
   "execution_count": 198,
   "id": "20145089-6213-4e98-833b-4cfa380d0a0e",
   "metadata": {},
   "outputs": [],
   "source": [
    "import os\n",
    "\n",
    "def load_data():\n",
    "    with open(os.path.join(\".\", \"data\", \"3.csv\")) as file:\n",
    "        lines = file.readlines()\n",
    "    df = pd.DataFrame([list(l) for l in lines]).drop(12, axis=1) # drop newline column\n",
    "    return df\n",
    "    \n",
    "def get_power_consumption():\n",
    "    df = load_data()\n",
    "    gamma_rate = \"\".join(df.mode(axis=0).transpose().squeeze().values[:-1])\n",
    "    epsilon_rate = \"\".join([{\"0\":\"1\", \"1\": \"0\"}[c] for c in gamma_rate])\n",
    "    return int(gamma_rate, base=2)*int(epsilon_rate, base=2)"
   ]
  },
  {
   "cell_type": "code",
   "execution_count": 199,
   "id": "611ea1f1-fcf9-4701-908e-183b67f54e40",
   "metadata": {},
   "outputs": [
    {
     "data": {
      "text/plain": [
       "325902"
      ]
     },
     "execution_count": 199,
     "metadata": {},
     "output_type": "execute_result"
    }
   ],
   "source": [
    "get_power_consumption()"
   ]
  },
  {
   "cell_type": "markdown",
   "id": "7652a655-915e-4d1a-b15a-473b71120b5b",
   "metadata": {},
   "source": [
    "### Part 2"
   ]
  },
  {
   "cell_type": "code",
   "execution_count": 221,
   "id": "83c9950b-2e9d-49c6-8e67-bfbb75c30194",
   "metadata": {},
   "outputs": [],
   "source": [
    "def get_life_support_rating():\n",
    "    def _filter_by_bit_criterion(numbers_df, criterion, bit_i=0,):\n",
    "        if criterion == \"O2\":\n",
    "            numbers_df = numbers_df.loc[numbers_df[bit_i] == max(numbers_df[bit_i].mode()), :]\n",
    "        elif criterion == \"CO2\":\n",
    "            numbers_df = numbers_df.loc[numbers_df[bit_i] != max(numbers_df[bit_i].mode()), :]\n",
    "        else:\n",
    "            raise ValueError()\n",
    "        \n",
    "        if numbers_df.shape[0] == 1:\n",
    "            return int(\"\".join(numbers_df.iloc[0, :].transpose().squeeze().values), base=2)\n",
    "        \n",
    "        else:\n",
    "            return _filter_by_bit_criterion(numbers_df, criterion, bit_i + 1)\n",
    "\n",
    "    co2_scrubber_rating = _filter_by_bit_criterion(load_data(), criterion = \"CO2\")\n",
    "    oxygen_generator_rating = _filter_by_bit_criterion(load_data(), criterion = \"O2\")\n",
    "    return co2_scrubber_rating*oxygen_generator_rating"
   ]
  },
  {
   "cell_type": "code",
   "execution_count": 222,
   "id": "0109618c-7cb0-46df-a34f-80b34f8e3df7",
   "metadata": {},
   "outputs": [
    {
     "data": {
      "text/plain": [
       "482500"
      ]
     },
     "execution_count": 222,
     "metadata": {},
     "output_type": "execute_result"
    }
   ],
   "source": [
    "get_life_support_rating()"
   ]
  },
  {
   "cell_type": "markdown",
   "id": "b1cabb21-65f7-4063-8b8a-ced4177950f2",
   "metadata": {},
   "source": [
    "# Day 4"
   ]
  },
  {
   "cell_type": "code",
   "execution_count": null,
   "id": "60fd36e5-a083-4b9c-bfb4-6c30fdb644da",
   "metadata": {},
   "outputs": [],
   "source": [
    "# Want to identify winning board, and the score of that board.\n",
    "# The winning board is the board which first marks a row or column from the list of numbers.\n",
    "# The score of the winning board is the sum of all of its unmarked numbers, multiplied by the\n",
    "# last number that was read out. \n",
    "\n",
    "# Initialise a set of boards.\n",
    "# Receive the first number.\n",
    "# Update the board base on the number, check if any of the boards have won.\n",
    "# If none of the boards have won, read the second number and repeat 3.\n",
    "# If a board has won, compute the winning score and identify the winning board."
   ]
  },
  {
   "cell_type": "code",
   "execution_count": 103,
   "id": "416ae943-b1a7-4039-957e-014d7d83ed47",
   "metadata": {},
   "outputs": [],
   "source": [
    "import numpy as np\n",
    "import os\n",
    "import re\n",
    "\n",
    "class BingoBoard():\n",
    "    \n",
    "    def __init__(self, raw_board: list):\n",
    "        # raw_board is a length-n list of str,\n",
    "        # where each str contains n space-separated integers.\n",
    "        self.values = np.array([line.split() for line in raw_board], dtype = int)\n",
    "        self.marks = np.zeros(self.values.shape, dtype = bool)\n",
    "        self.n = self.values.shape[0]\n",
    "        self.in_play = True\n",
    "    \n",
    "    def update(self, number: int):\n",
    "        if self.in_play:\n",
    "            self.marks[(self.values == number)] = True\n",
    "        \n",
    "    def check_for_win(self, number: int):\n",
    "        if self.in_play and (np.any(self.marks.sum(axis = 0) == self.n) or\n",
    "                             np.any((self.marks.sum(axis = 1) == self.n))):\n",
    "            self.in_play = False\n",
    "            return np.sum(self.values[~self.marks])*number\n",
    "        else:\n",
    "            return False\n",
    "        \n",
    "def read_bingo_game(filepath: str):\n",
    "    with open(filepath) as file:\n",
    "        lines = file.readlines()\n",
    "    boards = []\n",
    "    current_board = []\n",
    "    for j, line in enumerate(lines):\n",
    "        if j == 0: # read list of called-out numbers\n",
    "            called_values = np.array(line.strip().split(\",\"), dtype = int)\n",
    "        \n",
    "        if j > 1: # read boards\n",
    "            if (re.search(\"[0-9]+\", line) is not None):\n",
    "                current_board.append(line.strip())\n",
    "            else:\n",
    "                boards.append(BingoBoard(current_board))\n",
    "                current_board = []\n",
    "            \n",
    "    return called_values, boards\n",
    "\n",
    "def evaluate_bingo_game(called_values: list, boards: list):\n",
    "    # called values is a list of integers.\n",
    "    # boards is a list of BingoBoards.\n",
    "    outcomes = [] # list of win indicators/board final scores\n",
    "    # round of play increases going down the rows,\n",
    "    # columns correspond to boards.\n",
    "    for called_value in called_values:\n",
    "        for board in boards:\n",
    "            board.update(called_value)\n",
    "        outcomes.append([board.check_for_win(called_value) for board in boards])\n",
    "    return np.array(outcomes)"
   ]
  },
  {
   "cell_type": "markdown",
   "id": "e3887ba3-d5a1-4a8f-8d55-70cbf142a61c",
   "metadata": {},
   "source": [
    "### Part 1"
   ]
  },
  {
   "cell_type": "code",
   "execution_count": 109,
   "id": "84ccccab-1975-42b5-8ee3-1ca87dde35ba",
   "metadata": {},
   "outputs": [],
   "source": [
    "# First win\n",
    "def get_first_win():\n",
    "    called_values, boards = read_bingo_game(os.path.join(\".\", \"data\", \"4.csv\"))\n",
    "    outcomes = evaluate_bingo_game(called_values, boards)\n",
    "    n_rounds = outcomes.shape[0]\n",
    "    for j in range(n_rounds):\n",
    "        max_outcome = max(outcomes[j, :])\n",
    "        if max_outcome > 0:\n",
    "            return max_outcome\n",
    "    "
   ]
  },
  {
   "cell_type": "code",
   "execution_count": 110,
   "id": "b12ba2f7-d05b-499b-a6ef-ff7cbd8c4d6c",
   "metadata": {},
   "outputs": [
    {
     "data": {
      "text/plain": [
       "49686"
      ]
     },
     "execution_count": 110,
     "metadata": {},
     "output_type": "execute_result"
    }
   ],
   "source": [
    "get_first_win()"
   ]
  },
  {
   "cell_type": "markdown",
   "id": "1397f50c-e92d-4e65-93be-e173576c6f2b",
   "metadata": {},
   "source": [
    "### Part 2"
   ]
  },
  {
   "cell_type": "code",
   "execution_count": 113,
   "id": "a065dbea-149f-4776-8a44-03b81c07487c",
   "metadata": {},
   "outputs": [],
   "source": [
    "# Last win\n",
    "def get_last_win():\n",
    "    called_values, boards = read_bingo_game(os.path.join(\".\", \"data\", \"4.csv\"))\n",
    "    outcomes = evaluate_bingo_game(called_values, boards)\n",
    "    n_rounds = outcomes.shape[0]\n",
    "    for j in range(outcomes.shape[0]):\n",
    "        max_outcome = max(outcomes[n_rounds - 1 - j, :])\n",
    "        if max_outcome > 0:\n",
    "            return max_outcome"
   ]
  },
  {
   "cell_type": "code",
   "execution_count": 114,
   "id": "fdf6a49a-3cd5-406d-a865-aa5bc65eec71",
   "metadata": {},
   "outputs": [
    {
     "data": {
      "text/plain": [
       "26878"
      ]
     },
     "execution_count": 114,
     "metadata": {},
     "output_type": "execute_result"
    }
   ],
   "source": [
    "get_last_win()"
   ]
  },
  {
   "cell_type": "markdown",
   "id": "b530ead4-3fd1-45a4-af59-c42f69c4c4ba",
   "metadata": {},
   "source": [
    "# Day 5"
   ]
  },
  {
   "cell_type": "markdown",
   "id": "6a9239bb-7e67-4d90-8a11-862805f34cf1",
   "metadata": {},
   "source": [
    "### Part 1"
   ]
  },
  {
   "cell_type": "code",
   "execution_count": null,
   "id": "599137f3-7651-4b5a-9bdd-f01900e3db01",
   "metadata": {},
   "outputs": [],
   "source": [
    "# Mesh of points\n",
    "# Collection of lines defined on that mesh\n",
    "# Determine how many lines pass through each point on the mesh\n",
    "\n",
    "# Decompose each line by computing the set of points it passes through,\n",
    "# then, across all decompositions, compute the frequency of the points."
   ]
  },
  {
   "cell_type": "code",
   "execution_count": 179,
   "id": "9ed79773-7b93-4183-baf1-7e588eecbfcc",
   "metadata": {},
   "outputs": [],
   "source": [
    "import pandas as pd\n",
    "import numpy as np\n",
    "import os"
   ]
  },
  {
   "cell_type": "code",
   "execution_count": 220,
   "id": "b21b83c0-56af-4832-a30e-5ff4a3dc2d27",
   "metadata": {},
   "outputs": [],
   "source": [
    "def transform_vent_coords_to_points(vent_coords: str, ignore_diagonals = True):\n",
    "    EPS = 1e-10\n",
    "    origin, terminus = [\n",
    "        np.array(coords.split(\",\"), dtype = int)\n",
    "            for coords in re.findall(r\"[0-9,]+\", vent_coords)\n",
    "    ]\n",
    "    magnitude = np.sqrt(np.sum((terminus - origin)**2.))\n",
    "    direction = np.expand_dims((terminus - origin)/magnitude, axis = -1)\n",
    "    if np.all(direction > 0.7): # diagonal line\n",
    "        if ignore_diagonals:\n",
    "            return None\n",
    "        points = np.expand_dims(origin, axis = -1) + direction*np.arange(0., magnitude + EPS, np.sqrt(2))\n",
    "    else: # horizontal or vertical line\n",
    "        points = np.expand_dims(origin, axis = -1) + direction*np.arange(0., magnitude + EPS, 1.)\n",
    "    return points.transpose()"
   ]
  },
  {
   "cell_type": "code",
   "execution_count": 222,
   "id": "d30609e0-30d7-4f35-96a9-441966dcfdb6",
   "metadata": {},
   "outputs": [],
   "source": [
    "def analyse_vent_coords_collection(ignore_diagonals = True):\n",
    "    with open(os.path.join(\".\", \"data\", \"5.csv\")) as file:\n",
    "        lines = file.readlines()\n",
    "        \n",
    "    vent_points = [transform_vent_coords_to_points(vc, ignore_diagonals) for vc in lines]\n",
    "    vent_points = np.concatenate([vp for vp in vent_points if vp is not None])\n",
    "    \n",
    "    # Concatenate all vent points\n",
    "    return pd.Series([tuple(vent_point) for vent_point in vent_points]).value_counts()"
   ]
  },
  {
   "cell_type": "code",
   "execution_count": 225,
   "id": "d856122a-8e31-41ee-b7c9-eaad9c5bba83",
   "metadata": {},
   "outputs": [
    {
     "data": {
      "text/plain": [
       "array([0.        , 1.41421356, 2.82842712, 4.24264069, 5.65685425,\n",
       "       7.07106781, 8.48528137, 9.89949494])"
      ]
     },
     "execution_count": 225,
     "metadata": {},
     "output_type": "execute_result"
    }
   ],
   "source": [
    "transform_vent_coords_to_points(684,224 -> 83,825"
   ]
  },
  {
   "cell_type": "code",
   "execution_count": 224,
   "id": "f9eb713b-495c-4476-9ec0-1f1e9f6168d9",
   "metadata": {},
   "outputs": [
    {
     "data": {
      "text/plain": [
       "(257.0, 259.0)                          4\n",
       "(727.0, 744.0)                          4\n",
       "(395.0, 561.0)                          4\n",
       "(395.0, 589.0)                          4\n",
       "(632.0, 589.0)                          4\n",
       "                                       ..\n",
       "(291.0, 263.0)                          1\n",
       "(292.0, 264.0)                          1\n",
       "(293.0, 265.0)                          1\n",
       "(294.0, 266.0)                          1\n",
       "(241.680628122494, 753.319371877506)    1\n",
       "Length: 214775, dtype: int64"
      ]
     },
     "execution_count": 224,
     "metadata": {},
     "output_type": "execute_result"
    }
   ],
   "source": [
    "analyse_vent_coords_collection(ignore_diagonals = False)"
   ]
  },
  {
   "cell_type": "code",
   "execution_count": 188,
   "id": "3489e7fa-7c46-4a06-b616-1b0cc6348887",
   "metadata": {},
   "outputs": [
    {
     "data": {
      "text/plain": [
       "array([[364, 468],\n",
       "       [364, 469],\n",
       "       [364, 470],\n",
       "       [364, 471],\n",
       "       [364, 472],\n",
       "       [364, 473],\n",
       "       [364, 474],\n",
       "       [364, 475],\n",
       "       [364, 476],\n",
       "       [364, 477],\n",
       "       [364, 478],\n",
       "       [364, 479],\n",
       "       [364, 480],\n",
       "       [364, 481],\n",
       "       [364, 482],\n",
       "       [364, 483],\n",
       "       [364, 484],\n",
       "       [364, 485],\n",
       "       [364, 486],\n",
       "       [364, 487],\n",
       "       [364, 488],\n",
       "       [364, 489],\n",
       "       [364, 490],\n",
       "       [364, 491],\n",
       "       [364, 492],\n",
       "       [364, 493],\n",
       "       [364, 494],\n",
       "       [364, 495],\n",
       "       [364, 496],\n",
       "       [364, 497],\n",
       "       [364, 498],\n",
       "       [364, 499],\n",
       "       [364, 500],\n",
       "       [364, 501],\n",
       "       [364, 502],\n",
       "       [364, 503],\n",
       "       [364, 504],\n",
       "       [364, 505],\n",
       "       [364, 506],\n",
       "       [364, 507],\n",
       "       [364, 508],\n",
       "       [364, 509],\n",
       "       [364, 510],\n",
       "       [364, 511],\n",
       "       [364, 512],\n",
       "       [364, 513],\n",
       "       [364, 514],\n",
       "       [364, 515],\n",
       "       [364, 516],\n",
       "       [364, 517],\n",
       "       [364, 518],\n",
       "       [364, 519],\n",
       "       [364, 520],\n",
       "       [364, 521],\n",
       "       [364, 522],\n",
       "       [364, 523],\n",
       "       [364, 524],\n",
       "       [364, 525],\n",
       "       [364, 526],\n",
       "       [364, 527],\n",
       "       [364, 528],\n",
       "       [364, 529],\n",
       "       [364, 530],\n",
       "       [364, 531],\n",
       "       [364, 532],\n",
       "       [364, 533],\n",
       "       [364, 534],\n",
       "       [364, 535],\n",
       "       [364, 536],\n",
       "       [364, 537],\n",
       "       [364, 538],\n",
       "       [364, 539],\n",
       "       [364, 540],\n",
       "       [364, 541],\n",
       "       [364, 542],\n",
       "       [364, 543],\n",
       "       [364, 544],\n",
       "       [364, 545],\n",
       "       [364, 546],\n",
       "       [364, 547],\n",
       "       [364, 548],\n",
       "       [364, 549],\n",
       "       [364, 550],\n",
       "       [364, 551],\n",
       "       [364, 552],\n",
       "       [364, 553],\n",
       "       [364, 554],\n",
       "       [364, 555],\n",
       "       [364, 556],\n",
       "       [364, 557],\n",
       "       [364, 558],\n",
       "       [364, 559],\n",
       "       [364, 560],\n",
       "       [364, 561],\n",
       "       [364, 562],\n",
       "       [364, 563],\n",
       "       [364, 564],\n",
       "       [364, 565],\n",
       "       [364, 566],\n",
       "       [364, 567],\n",
       "       [364, 568],\n",
       "       [364, 569],\n",
       "       [364, 570],\n",
       "       [364, 571],\n",
       "       [364, 572],\n",
       "       [364, 573],\n",
       "       [364, 574],\n",
       "       [364, 575],\n",
       "       [364, 576],\n",
       "       [364, 577],\n",
       "       [364, 578],\n",
       "       [364, 579],\n",
       "       [364, 580],\n",
       "       [364, 581],\n",
       "       [364, 582],\n",
       "       [364, 583],\n",
       "       [364, 584],\n",
       "       [364, 585],\n",
       "       [364, 586],\n",
       "       [364, 587],\n",
       "       [364, 588],\n",
       "       [364, 589],\n",
       "       [364, 590],\n",
       "       [364, 591],\n",
       "       [364, 592],\n",
       "       [364, 593],\n",
       "       [364, 594],\n",
       "       [364, 595],\n",
       "       [364, 596],\n",
       "       [364, 597],\n",
       "       [364, 598],\n",
       "       [364, 599],\n",
       "       [364, 600],\n",
       "       [364, 601],\n",
       "       [364, 602],\n",
       "       [364, 603],\n",
       "       [364, 604],\n",
       "       [364, 605],\n",
       "       [364, 606],\n",
       "       [364, 607],\n",
       "       [364, 608],\n",
       "       [364, 609],\n",
       "       [364, 610],\n",
       "       [364, 611],\n",
       "       [364, 612],\n",
       "       [364, 613],\n",
       "       [364, 614],\n",
       "       [364, 615],\n",
       "       [364, 616],\n",
       "       [364, 617],\n",
       "       [364, 618],\n",
       "       [364, 619],\n",
       "       [364, 620],\n",
       "       [364, 621],\n",
       "       [364, 622],\n",
       "       [364, 623],\n",
       "       [364, 624],\n",
       "       [364, 625],\n",
       "       [364, 626],\n",
       "       [364, 627],\n",
       "       [364, 628],\n",
       "       [364, 629],\n",
       "       [364, 630],\n",
       "       [364, 631],\n",
       "       [364, 632],\n",
       "       [364, 633],\n",
       "       [364, 634],\n",
       "       [364, 635],\n",
       "       [364, 636],\n",
       "       [364, 637],\n",
       "       [364, 638],\n",
       "       [364, 639],\n",
       "       [364, 640],\n",
       "       [364, 641],\n",
       "       [364, 642],\n",
       "       [364, 643],\n",
       "       [364, 644],\n",
       "       [364, 645],\n",
       "       [364, 646],\n",
       "       [364, 647],\n",
       "       [364, 648],\n",
       "       [364, 649],\n",
       "       [364, 650],\n",
       "       [364, 651],\n",
       "       [364, 652],\n",
       "       [364, 653],\n",
       "       [364, 654],\n",
       "       [364, 655],\n",
       "       [364, 656],\n",
       "       [364, 657],\n",
       "       [364, 658],\n",
       "       [364, 659],\n",
       "       [364, 660],\n",
       "       [364, 661],\n",
       "       [364, 662],\n",
       "       [364, 663],\n",
       "       [364, 664],\n",
       "       [364, 665],\n",
       "       [364, 666],\n",
       "       [364, 667],\n",
       "       [364, 668],\n",
       "       [364, 669],\n",
       "       [364, 670],\n",
       "       [364, 671],\n",
       "       [364, 672],\n",
       "       [364, 673],\n",
       "       [364, 674],\n",
       "       [364, 675],\n",
       "       [364, 676],\n",
       "       [364, 677],\n",
       "       [364, 678],\n",
       "       [364, 679],\n",
       "       [364, 680],\n",
       "       [364, 681],\n",
       "       [364, 682],\n",
       "       [364, 683],\n",
       "       [364, 684],\n",
       "       [364, 685],\n",
       "       [364, 686],\n",
       "       [364, 687],\n",
       "       [364, 688],\n",
       "       [364, 689],\n",
       "       [364, 690],\n",
       "       [364, 691],\n",
       "       [364, 692],\n",
       "       [364, 693],\n",
       "       [364, 694],\n",
       "       [364, 695],\n",
       "       [364, 696],\n",
       "       [364, 697],\n",
       "       [364, 698],\n",
       "       [364, 699],\n",
       "       [364, 700],\n",
       "       [364, 701],\n",
       "       [364, 702],\n",
       "       [364, 703],\n",
       "       [364, 704],\n",
       "       [364, 705],\n",
       "       [364, 706],\n",
       "       [364, 707],\n",
       "       [364, 708],\n",
       "       [364, 709],\n",
       "       [364, 710],\n",
       "       [364, 711],\n",
       "       [364, 712],\n",
       "       [364, 713],\n",
       "       [364, 714],\n",
       "       [364, 715],\n",
       "       [364, 716],\n",
       "       [364, 717],\n",
       "       [364, 718],\n",
       "       [364, 719],\n",
       "       [364, 720],\n",
       "       [364, 721],\n",
       "       [364, 722],\n",
       "       [364, 723],\n",
       "       [364, 724],\n",
       "       [364, 725],\n",
       "       [364, 726],\n",
       "       [364, 727],\n",
       "       [364, 728],\n",
       "       [364, 729],\n",
       "       [364, 730],\n",
       "       [364, 731],\n",
       "       [364, 732],\n",
       "       [364, 733],\n",
       "       [364, 734],\n",
       "       [364, 735],\n",
       "       [364, 736],\n",
       "       [364, 737],\n",
       "       [364, 738],\n",
       "       [364, 739],\n",
       "       [364, 740],\n",
       "       [364, 741],\n",
       "       [364, 742],\n",
       "       [364, 743],\n",
       "       [364, 744],\n",
       "       [364, 745],\n",
       "       [364, 746],\n",
       "       [364, 747],\n",
       "       [364, 748],\n",
       "       [364, 749],\n",
       "       [364, 750],\n",
       "       [364, 751],\n",
       "       [364, 752],\n",
       "       [364, 753],\n",
       "       [364, 754],\n",
       "       [364, 755],\n",
       "       [364, 756],\n",
       "       [364, 757],\n",
       "       [364, 758],\n",
       "       [364, 759],\n",
       "       [364, 760],\n",
       "       [364, 761],\n",
       "       [364, 762]])"
      ]
     },
     "execution_count": 188,
     "metadata": {},
     "output_type": "execute_result"
    }
   ],
   "source": [
    "transform_vent_coords_to_points(\"364,468 -> 364,762\")"
   ]
  },
  {
   "cell_type": "code",
   "execution_count": null,
   "id": "768c4008-638b-4cfd-a527-c0367eac6a65",
   "metadata": {},
   "outputs": [],
   "source": []
  }
 ],
 "metadata": {
  "kernelspec": {
   "display_name": "Python 3",
   "language": "python",
   "name": "python3"
  },
  "language_info": {
   "codemirror_mode": {
    "name": "ipython",
    "version": 3
   },
   "file_extension": ".py",
   "mimetype": "text/x-python",
   "name": "python",
   "nbconvert_exporter": "python",
   "pygments_lexer": "ipython3",
   "version": "3.8.11"
  }
 },
 "nbformat": 4,
 "nbformat_minor": 5
}
