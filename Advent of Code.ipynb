{
 "cells": [
  {
   "cell_type": "markdown",
   "id": "c93fcfa6-b9fa-41ed-a5d7-cbba8e134f23",
   "metadata": {},
   "source": [
    "# 🎅🤶 Advent of Code 🌟☃️"
   ]
  },
  {
   "cell_type": "markdown",
   "id": "492922c7-8048-4df4-b681-ccbd922b2cbd",
   "metadata": {
    "jp-MarkdownHeadingCollapsed": true,
    "tags": []
   },
   "source": [
    "# Day 1"
   ]
  },
  {
   "cell_type": "code",
   "execution_count": 44,
   "id": "44e0ba30-6cad-4919-8db5-d198cf133b6d",
   "metadata": {},
   "outputs": [],
   "source": [
    "import pandas as pd\n",
    "import os\n",
    "\n",
    "def load_data():\n",
    "    return pd.read_csv(os.path.join(\".\", \"data\", \"1.csv\"), header=None).squeeze()"
   ]
  },
  {
   "cell_type": "markdown",
   "id": "56813adc-d7aa-4d24-bf09-b3d58251e8c0",
   "metadata": {},
   "source": [
    "### Part 1"
   ]
  },
  {
   "cell_type": "code",
   "execution_count": 44,
   "id": "0ef900ce-64f2-4e21-86d8-84201873a529",
   "metadata": {},
   "outputs": [],
   "source": [
    "def get_n_times_increased():\n",
    "    return (load_data().diff().dropna() > 0.).aggregate(sum)`a"
   ]
  },
  {
   "cell_type": "code",
   "execution_count": 45,
   "id": "0603db00-1b09-4607-9cad-370b28f1f5e3",
   "metadata": {},
   "outputs": [
    {
     "data": {
      "text/plain": [
       "1527"
      ]
     },
     "execution_count": 45,
     "metadata": {},
     "output_type": "execute_result"
    }
   ],
   "source": [
    "get_n_times_increased()"
   ]
  },
  {
   "cell_type": "markdown",
   "id": "d500e074-b6b9-4ffa-a3a2-2dbfd18d712a",
   "metadata": {},
   "source": [
    "### Part 2"
   ]
  },
  {
   "cell_type": "code",
   "execution_count": 54,
   "id": "74d6ce4f-f078-40f6-855e-1aea193a2503",
   "metadata": {},
   "outputs": [],
   "source": [
    "def get_n_times_sum_increased():\n",
    "    return (load_data().rolling(3).sum().diff() > 0.).aggregate(sum)"
   ]
  },
  {
   "cell_type": "code",
   "execution_count": 55,
   "id": "5ced6b10-0cc6-4da9-a9da-3fd40aa6bf5a",
   "metadata": {},
   "outputs": [
    {
     "data": {
      "text/plain": [
       "1575"
      ]
     },
     "execution_count": 55,
     "metadata": {},
     "output_type": "execute_result"
    }
   ],
   "source": [
    "get_n_times_sum_increased()"
   ]
  },
  {
   "cell_type": "markdown",
   "id": "121321e1-621e-4e31-b388-b6a742b37675",
   "metadata": {
    "jp-MarkdownHeadingCollapsed": true,
    "tags": []
   },
   "source": [
    "# Day 2"
   ]
  },
  {
   "cell_type": "code",
   "execution_count": 125,
   "id": "6eae1dc4-b327-4b50-a289-76d1e7035b25",
   "metadata": {},
   "outputs": [],
   "source": [
    "import pandas as pd\n",
    "import os\n",
    "\n",
    "def load_data():\n",
    "    df = pd.read_csv(os.path.join(\".\", \"data\", \"2.csv\"), header=None)\n",
    "    df.columns = [\"raw\"]\n",
    "    df = df[\"raw\"].str.split(expand = True)\n",
    "    df.columns = [\"direction\", \"magnitude\"]\n",
    "    df[\"magnitude\"] = df[\"magnitude\"].astype(int)\n",
    "    return df"
   ]
  },
  {
   "cell_type": "markdown",
   "id": "7ef5ef54-ccc3-49ae-bd6a-9513a23d4d5b",
   "metadata": {},
   "source": [
    "### Part 1"
   ]
  },
  {
   "cell_type": "code",
   "execution_count": 125,
   "id": "a7b3ba22-9da6-4265-8243-413dc61d9dc7",
   "metadata": {},
   "outputs": [],
   "source": [
    "def get_product_of_horizontal_and_vertical_location():\n",
    "    df = load_data()\n",
    "    agg_df = df.groupby(\"direction\").aggregate({\"magnitude\": sum})\n",
    "    return (agg_df.loc[\"down\", \"magnitude\"] - agg_df.loc[\"up\", \"magnitude\"])*agg_df.loc[\"forward\", \"magnitude\"]"
   ]
  },
  {
   "cell_type": "code",
   "execution_count": 126,
   "id": "93a10e9d-16f0-4694-a71a-50af8ccd4de4",
   "metadata": {},
   "outputs": [
    {
     "data": {
      "text/plain": [
       "1762050"
      ]
     },
     "execution_count": 126,
     "metadata": {},
     "output_type": "execute_result"
    }
   ],
   "source": [
    "get_product_of_horizontal_and_vertical_location()"
   ]
  },
  {
   "cell_type": "markdown",
   "id": "b347cc15-abe3-489e-9baf-f37d3bdad301",
   "metadata": {},
   "source": [
    "### Part 2"
   ]
  },
  {
   "cell_type": "code",
   "execution_count": 123,
   "id": "147b022c-9338-43b6-b3a6-cff24455fcbd",
   "metadata": {},
   "outputs": [],
   "source": [
    "def get_product_of_horizontal_and_vertical_location():\n",
    "    df = load_data()\n",
    "    for direction in df[\"direction\"].unique():\n",
    "        df[direction] = (df[\"direction\"] == direction)*df[\"magnitude\"] # change in each direction at each time step\n",
    "    df[\"aim\"] = df[\"down\"].cumsum() - df[\"up\"].cumsum()\n",
    "    df[\"horizontal\"] = df[\"forward\"].cumsum()\n",
    "    df[\"depth\"] = (df[\"aim\"]*df[\"forward\"]).cumsum()\n",
    "    return (df[\"depth\"]*df[\"horizontal\"]).values[-1]"
   ]
  },
  {
   "cell_type": "code",
   "execution_count": 124,
   "id": "a208f1a3-97b1-45fb-89a1-a1a0ab273327",
   "metadata": {},
   "outputs": [
    {
     "data": {
      "text/plain": [
       "1855892637"
      ]
     },
     "execution_count": 124,
     "metadata": {},
     "output_type": "execute_result"
    }
   ],
   "source": [
    "get_product_of_horizontal_and_vertical_location()"
   ]
  }
 ],
 "metadata": {
  "kernelspec": {
   "display_name": "Python 3",
   "language": "python",
   "name": "python3"
  },
  "language_info": {
   "codemirror_mode": {
    "name": "ipython",
    "version": 3
   },
   "file_extension": ".py",
   "mimetype": "text/x-python",
   "name": "python",
   "nbconvert_exporter": "python",
   "pygments_lexer": "ipython3",
   "version": "3.8.11"
  }
 },
 "nbformat": 4,
 "nbformat_minor": 5
}
