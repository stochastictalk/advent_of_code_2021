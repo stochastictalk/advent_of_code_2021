{
 "cells": [
  {
   "cell_type": "markdown",
   "id": "c93fcfa6-b9fa-41ed-a5d7-cbba8e134f23",
   "metadata": {},
   "source": [
    "# 🎅🤶 Advent of Code 2021 🌟☃️"
   ]
  },
  {
   "cell_type": "markdown",
   "id": "e1f6e724-5c46-4301-afbb-78021e5a210d",
   "metadata": {},
   "source": [
    "https://adventofcode.com/"
   ]
  },
  {
   "cell_type": "markdown",
   "id": "492922c7-8048-4df4-b681-ccbd922b2cbd",
   "metadata": {
    "tags": []
   },
   "source": [
    "# Day 1"
   ]
  },
  {
   "cell_type": "code",
   "execution_count": 44,
   "id": "44e0ba30-6cad-4919-8db5-d198cf133b6d",
   "metadata": {},
   "outputs": [],
   "source": [
    "import pandas as pd\n",
    "import os\n",
    "\n",
    "def load_data():\n",
    "    return pd.read_csv(os.path.join(\".\", \"data\", \"1.csv\"), header=None).squeeze()"
   ]
  },
  {
   "cell_type": "markdown",
   "id": "56813adc-d7aa-4d24-bf09-b3d58251e8c0",
   "metadata": {},
   "source": [
    "### Part 1"
   ]
  },
  {
   "cell_type": "code",
   "execution_count": 44,
   "id": "0ef900ce-64f2-4e21-86d8-84201873a529",
   "metadata": {},
   "outputs": [],
   "source": [
    "def get_n_times_increased():\n",
    "    return (load_data().diff().dropna() > 0.).aggregate(sum)"
   ]
  },
  {
   "cell_type": "code",
   "execution_count": 45,
   "id": "0603db00-1b09-4607-9cad-370b28f1f5e3",
   "metadata": {},
   "outputs": [
    {
     "data": {
      "text/plain": [
       "1527"
      ]
     },
     "execution_count": 45,
     "metadata": {},
     "output_type": "execute_result"
    }
   ],
   "source": [
    "get_n_times_increased()"
   ]
  },
  {
   "cell_type": "markdown",
   "id": "d500e074-b6b9-4ffa-a3a2-2dbfd18d712a",
   "metadata": {},
   "source": [
    "### Part 2"
   ]
  },
  {
   "cell_type": "code",
   "execution_count": 54,
   "id": "74d6ce4f-f078-40f6-855e-1aea193a2503",
   "metadata": {},
   "outputs": [],
   "source": [
    "def get_n_times_sum_increased():\n",
    "    return (load_data().rolling(3).sum().diff() > 0.).aggregate(sum)"
   ]
  },
  {
   "cell_type": "code",
   "execution_count": 55,
   "id": "5ced6b10-0cc6-4da9-a9da-3fd40aa6bf5a",
   "metadata": {},
   "outputs": [
    {
     "data": {
      "text/plain": [
       "1575"
      ]
     },
     "execution_count": 55,
     "metadata": {},
     "output_type": "execute_result"
    }
   ],
   "source": [
    "get_n_times_sum_increased()"
   ]
  },
  {
   "cell_type": "markdown",
   "id": "121321e1-621e-4e31-b388-b6a742b37675",
   "metadata": {
    "tags": []
   },
   "source": [
    "# Day 2"
   ]
  },
  {
   "cell_type": "code",
   "execution_count": 125,
   "id": "6eae1dc4-b327-4b50-a289-76d1e7035b25",
   "metadata": {},
   "outputs": [],
   "source": [
    "import pandas as pd\n",
    "import os\n",
    "\n",
    "def load_data():\n",
    "    df = pd.read_csv(os.path.join(\".\", \"data\", \"2.csv\"), header=None)\n",
    "    df.columns = [\"raw\"]\n",
    "    df = df[\"raw\"].str.split(expand = True)\n",
    "    df.columns = [\"direction\", \"magnitude\"]\n",
    "    df[\"magnitude\"] = df[\"magnitude\"].astype(int)\n",
    "    return df"
   ]
  },
  {
   "cell_type": "markdown",
   "id": "7ef5ef54-ccc3-49ae-bd6a-9513a23d4d5b",
   "metadata": {},
   "source": [
    "### Part 1"
   ]
  },
  {
   "cell_type": "code",
   "execution_count": 125,
   "id": "a7b3ba22-9da6-4265-8243-413dc61d9dc7",
   "metadata": {},
   "outputs": [],
   "source": [
    "def get_product_of_horizontal_and_vertical_location():\n",
    "    df = load_data()\n",
    "    agg_df = df.groupby(\"direction\").aggregate({\"magnitude\": sum})\n",
    "    return (agg_df.loc[\"down\", \"magnitude\"] - agg_df.loc[\"up\", \"magnitude\"])*agg_df.loc[\"forward\", \"magnitude\"]"
   ]
  },
  {
   "cell_type": "code",
   "execution_count": 126,
   "id": "93a10e9d-16f0-4694-a71a-50af8ccd4de4",
   "metadata": {},
   "outputs": [
    {
     "data": {
      "text/plain": [
       "1762050"
      ]
     },
     "execution_count": 126,
     "metadata": {},
     "output_type": "execute_result"
    }
   ],
   "source": [
    "get_product_of_horizontal_and_vertical_location()"
   ]
  },
  {
   "cell_type": "markdown",
   "id": "b347cc15-abe3-489e-9baf-f37d3bdad301",
   "metadata": {},
   "source": [
    "### Part 2"
   ]
  },
  {
   "cell_type": "code",
   "execution_count": 123,
   "id": "147b022c-9338-43b6-b3a6-cff24455fcbd",
   "metadata": {},
   "outputs": [],
   "source": [
    "def get_product_of_horizontal_and_vertical_location():\n",
    "    df = load_data()\n",
    "    for direction in df[\"direction\"].unique():\n",
    "        df[direction] = (df[\"direction\"] == direction)*df[\"magnitude\"] # change in each direction at each time step\n",
    "    df[\"aim\"] = df[\"down\"].cumsum() - df[\"up\"].cumsum()\n",
    "    df[\"horizontal\"] = df[\"forward\"].cumsum()\n",
    "    df[\"depth\"] = (df[\"aim\"]*df[\"forward\"]).cumsum()\n",
    "    return (df[\"depth\"]*df[\"horizontal\"]).values[-1]"
   ]
  },
  {
   "cell_type": "code",
   "execution_count": 124,
   "id": "a208f1a3-97b1-45fb-89a1-a1a0ab273327",
   "metadata": {},
   "outputs": [
    {
     "data": {
      "text/plain": [
       "1855892637"
      ]
     },
     "execution_count": 124,
     "metadata": {},
     "output_type": "execute_result"
    }
   ],
   "source": [
    "get_product_of_horizontal_and_vertical_location()"
   ]
  },
  {
   "cell_type": "markdown",
   "id": "3e768f96-d079-4c90-a356-5b841355770d",
   "metadata": {},
   "source": [
    "# Day 3"
   ]
  },
  {
   "cell_type": "markdown",
   "id": "98f8c206-8af6-4461-82c4-4a88bbaa26fb",
   "metadata": {},
   "source": [
    "### Part 1"
   ]
  },
  {
   "cell_type": "code",
   "execution_count": 198,
   "id": "20145089-6213-4e98-833b-4cfa380d0a0e",
   "metadata": {},
   "outputs": [],
   "source": [
    "import os\n",
    "\n",
    "def load_data():\n",
    "    with open(os.path.join(\".\", \"data\", \"3.csv\")) as file:\n",
    "        lines = file.readlines()\n",
    "    df = pd.DataFrame([list(l) for l in lines]).drop(12, axis=1) # drop newline column\n",
    "    return df\n",
    "    \n",
    "def get_power_consumption():\n",
    "    df = load_data()\n",
    "    gamma_rate = \"\".join(df.mode(axis=0).transpose().squeeze().values[:-1])\n",
    "    epsilon_rate = \"\".join([{\"0\":\"1\", \"1\": \"0\"}[c] for c in gamma_rate])\n",
    "    return int(gamma_rate, base=2)*int(epsilon_rate, base=2)"
   ]
  },
  {
   "cell_type": "code",
   "execution_count": 199,
   "id": "611ea1f1-fcf9-4701-908e-183b67f54e40",
   "metadata": {},
   "outputs": [
    {
     "data": {
      "text/plain": [
       "325902"
      ]
     },
     "execution_count": 199,
     "metadata": {},
     "output_type": "execute_result"
    }
   ],
   "source": [
    "get_power_consumption()"
   ]
  },
  {
   "cell_type": "markdown",
   "id": "7652a655-915e-4d1a-b15a-473b71120b5b",
   "metadata": {},
   "source": [
    "### Part 2"
   ]
  },
  {
   "cell_type": "code",
   "execution_count": 221,
   "id": "83c9950b-2e9d-49c6-8e67-bfbb75c30194",
   "metadata": {},
   "outputs": [],
   "source": [
    "def get_life_support_rating():\n",
    "    def _filter_by_bit_criterion(numbers_df, criterion, bit_i=0,):\n",
    "        if criterion == \"O2\":\n",
    "            numbers_df = numbers_df.loc[numbers_df[bit_i] == max(numbers_df[bit_i].mode()), :]\n",
    "        elif criterion == \"CO2\":\n",
    "            numbers_df = numbers_df.loc[numbers_df[bit_i] != max(numbers_df[bit_i].mode()), :]\n",
    "        else:\n",
    "            raise ValueError()\n",
    "        \n",
    "        if numbers_df.shape[0] == 1:\n",
    "            return int(\"\".join(numbers_df.iloc[0, :].transpose().squeeze().values), base=2)\n",
    "        \n",
    "        else:\n",
    "            return _filter_by_bit_criterion(numbers_df, criterion, bit_i + 1)\n",
    "\n",
    "    co2_scrubber_rating = _filter_by_bit_criterion(load_data(), criterion = \"CO2\")\n",
    "    oxygen_generator_rating = _filter_by_bit_criterion(load_data(), criterion = \"O2\")\n",
    "    return co2_scrubber_rating*oxygen_generator_rating"
   ]
  },
  {
   "cell_type": "code",
   "execution_count": 222,
   "id": "0109618c-7cb0-46df-a34f-80b34f8e3df7",
   "metadata": {},
   "outputs": [
    {
     "data": {
      "text/plain": [
       "482500"
      ]
     },
     "execution_count": 222,
     "metadata": {},
     "output_type": "execute_result"
    }
   ],
   "source": [
    "get_life_support_rating()"
   ]
  },
  {
   "cell_type": "markdown",
   "id": "b1cabb21-65f7-4063-8b8a-ced4177950f2",
   "metadata": {},
   "source": [
    "# Day 4"
   ]
  },
  {
   "cell_type": "code",
   "execution_count": null,
   "id": "60fd36e5-a083-4b9c-bfb4-6c30fdb644da",
   "metadata": {},
   "outputs": [],
   "source": [
    "# Want to identify winning board, and the score of that board.\n",
    "# The winning board is the board which first marks a row or column from the list of numbers.\n",
    "# The score of the winning board is the sum of all of its unmarked numbers, multiplied by the\n",
    "# last number that was read out. \n",
    "\n",
    "# Initialise a set of boards.\n",
    "# Receive the first number.\n",
    "# Update the board base on the number, check if any of the boards have won.\n",
    "# If none of the boards have won, read the second number and repeat 3.\n",
    "# If a board has won, compute the winning score and identify the winning board."
   ]
  },
  {
   "cell_type": "code",
   "execution_count": 103,
   "id": "416ae943-b1a7-4039-957e-014d7d83ed47",
   "metadata": {},
   "outputs": [],
   "source": [
    "import numpy as np\n",
    "import os\n",
    "import re\n",
    "\n",
    "class BingoBoard():\n",
    "    \n",
    "    def __init__(self, raw_board: list):\n",
    "        # raw_board is a length-n list of str,\n",
    "        # where each str contains n space-separated integers.\n",
    "        self.values = np.array([line.split() for line in raw_board], dtype = int)\n",
    "        self.marks = np.zeros(self.values.shape, dtype = bool)\n",
    "        self.n = self.values.shape[0]\n",
    "        self.in_play = True\n",
    "    \n",
    "    def update(self, number: int):\n",
    "        if self.in_play:\n",
    "            self.marks[(self.values == number)] = True\n",
    "        \n",
    "    def check_for_win(self, number: int):\n",
    "        if self.in_play and (np.any(self.marks.sum(axis = 0) == self.n) or\n",
    "                             np.any((self.marks.sum(axis = 1) == self.n))):\n",
    "            self.in_play = False\n",
    "            return np.sum(self.values[~self.marks])*number\n",
    "        else:\n",
    "            return False\n",
    "        \n",
    "def read_bingo_game(filepath: str):\n",
    "    with open(filepath) as file:\n",
    "        lines = file.readlines()\n",
    "    boards = []\n",
    "    current_board = []\n",
    "    for j, line in enumerate(lines):\n",
    "        if j == 0: # read list of called-out numbers\n",
    "            called_values = np.array(line.strip().split(\",\"), dtype = int)\n",
    "        \n",
    "        if j > 1: # read boards\n",
    "            if (re.search(\"[0-9]+\", line) is not None):\n",
    "                current_board.append(line.strip())\n",
    "            else:\n",
    "                boards.append(BingoBoard(current_board))\n",
    "                current_board = []\n",
    "            \n",
    "    return called_values, boards\n",
    "\n",
    "def evaluate_bingo_game(called_values: list, boards: list):\n",
    "    # called values is a list of integers.\n",
    "    # boards is a list of BingoBoards.\n",
    "    outcomes = [] # list of win indicators/board final scores\n",
    "    # round of play increases going down the rows,\n",
    "    # columns correspond to boards.\n",
    "    for called_value in called_values:\n",
    "        for board in boards:\n",
    "            board.update(called_value)\n",
    "        outcomes.append([board.check_for_win(called_value) for board in boards])\n",
    "    return np.array(outcomes)"
   ]
  },
  {
   "cell_type": "markdown",
   "id": "e3887ba3-d5a1-4a8f-8d55-70cbf142a61c",
   "metadata": {},
   "source": [
    "### Part 1"
   ]
  },
  {
   "cell_type": "code",
   "execution_count": 109,
   "id": "84ccccab-1975-42b5-8ee3-1ca87dde35ba",
   "metadata": {},
   "outputs": [],
   "source": [
    "# First win\n",
    "def get_first_win():\n",
    "    called_values, boards = read_bingo_game(os.path.join(\".\", \"data\", \"4.csv\"))\n",
    "    outcomes = evaluate_bingo_game(called_values, boards)\n",
    "    n_rounds = outcomes.shape[0]\n",
    "    for j in range(n_rounds):\n",
    "        max_outcome = max(outcomes[j, :])\n",
    "        if max_outcome > 0:\n",
    "            return max_outcome\n",
    "    "
   ]
  },
  {
   "cell_type": "code",
   "execution_count": 110,
   "id": "b12ba2f7-d05b-499b-a6ef-ff7cbd8c4d6c",
   "metadata": {},
   "outputs": [
    {
     "data": {
      "text/plain": [
       "49686"
      ]
     },
     "execution_count": 110,
     "metadata": {},
     "output_type": "execute_result"
    }
   ],
   "source": [
    "get_first_win()"
   ]
  },
  {
   "cell_type": "markdown",
   "id": "1397f50c-e92d-4e65-93be-e173576c6f2b",
   "metadata": {},
   "source": [
    "### Part 2"
   ]
  },
  {
   "cell_type": "code",
   "execution_count": 113,
   "id": "a065dbea-149f-4776-8a44-03b81c07487c",
   "metadata": {},
   "outputs": [],
   "source": [
    "# Last win\n",
    "def get_last_win():\n",
    "    called_values, boards = read_bingo_game(os.path.join(\".\", \"data\", \"4.csv\"))\n",
    "    outcomes = evaluate_bingo_game(called_values, boards)\n",
    "    n_rounds = outcomes.shape[0]\n",
    "    for j in range(outcomes.shape[0]):\n",
    "        max_outcome = max(outcomes[n_rounds - 1 - j, :])\n",
    "        if max_outcome > 0:\n",
    "            return max_outcome"
   ]
  },
  {
   "cell_type": "code",
   "execution_count": 114,
   "id": "fdf6a49a-3cd5-406d-a865-aa5bc65eec71",
   "metadata": {},
   "outputs": [
    {
     "data": {
      "text/plain": [
       "26878"
      ]
     },
     "execution_count": 114,
     "metadata": {},
     "output_type": "execute_result"
    }
   ],
   "source": [
    "get_last_win()"
   ]
  },
  {
   "cell_type": "markdown",
   "id": "b530ead4-3fd1-45a4-af59-c42f69c4c4ba",
   "metadata": {},
   "source": [
    "# Day 5"
   ]
  },
  {
   "cell_type": "markdown",
   "id": "6a9239bb-7e67-4d90-8a11-862805f34cf1",
   "metadata": {},
   "source": [
    "### Part 1"
   ]
  },
  {
   "cell_type": "code",
   "execution_count": 179,
   "id": "9ed79773-7b93-4183-baf1-7e588eecbfcc",
   "metadata": {},
   "outputs": [],
   "source": [
    "import pandas as pd\n",
    "import numpy as np\n",
    "import os"
   ]
  },
  {
   "cell_type": "code",
   "execution_count": 280,
   "id": "b21b83c0-56af-4832-a30e-5ff4a3dc2d27",
   "metadata": {},
   "outputs": [],
   "source": [
    "EPS = 1e-10\n",
    "\n",
    "def transform_vent_coords_to_points(vent_coords: str, ignore_diagonals = True):\n",
    "    origin, terminus = [\n",
    "        np.array(coords.split(\",\"), dtype = int)\n",
    "            for coords in re.findall(r\"[0-9,]+\", vent_coords)\n",
    "    ]\n",
    "    magnitude = np.sqrt(np.sum((terminus - origin)**2.))\n",
    "    direction = np.expand_dims((terminus - origin)/magnitude, axis = -1)\n",
    "    if np.all(np.abs(direction) > 0.7): # diagonal line\n",
    "        if ignore_diagonals:\n",
    "            return None\n",
    "        points = np.expand_dims(origin, axis = -1) + direction*np.arange(0., magnitude + EPS, np.sqrt(2))\n",
    "    else: # horizontal or vertical line\n",
    "        points = np.expand_dims(origin, axis = -1) + direction*np.arange(0., magnitude + EPS, 1.)\n",
    "    return np.rint(points).transpose()"
   ]
  },
  {
   "cell_type": "code",
   "execution_count": 281,
   "id": "d30609e0-30d7-4f35-96a9-441966dcfdb6",
   "metadata": {},
   "outputs": [],
   "source": [
    "def analyse_vent_coords_collection(ignore_diagonals = True):\n",
    "    with open(os.path.join(\".\", \"data\", \"5.csv\")) as file:\n",
    "        lines = file.readlines()\n",
    "    \n",
    "    vent_points = [transform_vent_coords_to_points(vc, ignore_diagonals) for vc in lines]\n",
    "    vent_points = np.concatenate([vp for vp in vent_points if vp is not None])\n",
    "    \n",
    "    # Concatenate all vent points\n",
    "    return pd.Series([tuple(vent_point) for vent_point in vent_points]).value_counts()"
   ]
  },
  {
   "cell_type": "code",
   "execution_count": 282,
   "id": "f9eb713b-495c-4476-9ec0-1f1e9f6168d9",
   "metadata": {},
   "outputs": [
    {
     "data": {
      "text/plain": [
       "5169"
      ]
     },
     "execution_count": 282,
     "metadata": {},
     "output_type": "execute_result"
    }
   ],
   "source": [
    "np.sum(analyse_vent_coords_collection(ignore_diagonals = True) >= 2)"
   ]
  },
  {
   "cell_type": "code",
   "execution_count": 283,
   "id": "768c4008-638b-4cfd-a527-c0367eac6a65",
   "metadata": {},
   "outputs": [
    {
     "data": {
      "text/plain": [
       "22083"
      ]
     },
     "execution_count": 283,
     "metadata": {},
     "output_type": "execute_result"
    }
   ],
   "source": [
    "np.sum(analyse_vent_coords_collection(ignore_diagonals = False) >= 2)"
   ]
  },
  {
   "cell_type": "markdown",
   "id": "fcdd1eba-2288-4070-ace9-863a3df64648",
   "metadata": {},
   "source": [
    "# Day 6"
   ]
  },
  {
   "cell_type": "code",
   "execution_count": 284,
   "id": "8af4a7d2-7893-4ae9-ad62-25089adbc93c",
   "metadata": {},
   "outputs": [],
   "source": [
    "# Each lanternfish creates a new lanternfish once every 7 days.\n",
    "# After being born, a lanternfish has a timer value of 8.\n",
    "# After giving birth, a lanternfish has a timer value of 6.\n",
    "# The lanternfish gives birth in the interval between timer values of 0 and 6.\n",
    "\n",
    "# How many lanternfish would there be after 80 days?"
   ]
  },
  {
   "cell_type": "markdown",
   "id": "e75d1273-52f7-4b94-840a-f7419a5cb34b",
   "metadata": {},
   "source": [
    "### Part 1"
   ]
  },
  {
   "cell_type": "code",
   "execution_count": 300,
   "id": "14e4964c-f0d8-4632-9b60-0e404254b409",
   "metadata": {},
   "outputs": [],
   "source": [
    "import numpy as np\n",
    "import pandas as pd\n",
    "import os"
   ]
  },
  {
   "cell_type": "code",
   "execution_count": 301,
   "id": "a6cabe02-774e-489a-a1c6-fe581a51f65d",
   "metadata": {},
   "outputs": [],
   "source": [
    "def load_lanternfish_data():\n",
    "    with open(os.path.join(\".\", \"data\", \"6.csv\")) as file:\n",
    "        data = np.array(file.readlines()[0].strip().split(\",\"), dtype = int)\n",
    "    return data\n",
    "\n",
    "def increment_lanternfish_data(data, n_days = 1):\n",
    "    # data is a 1d np.array of integers.\n",
    "    giving_birth = (data == 0)\n",
    "    data[giving_birth] = 6\n",
    "    data[~giving_birth] = data[~giving_birth] - 1\n",
    "    data = np.concatenate([data, np.full(shape = giving_birth.sum(), fill_value = 8)])\n",
    "    if (n_days - 1) == 0:\n",
    "        return data\n",
    "    else:\n",
    "        return increment_lanternfish_data(data, n_days - 1)"
   ]
  },
  {
   "cell_type": "code",
   "execution_count": 302,
   "id": "7f3586e5-4c21-44ce-b7b3-b9d2533b6ea0",
   "metadata": {},
   "outputs": [
    {
     "data": {
      "text/plain": [
       "362639"
      ]
     },
     "execution_count": 302,
     "metadata": {},
     "output_type": "execute_result"
    }
   ],
   "source": [
    "len(increment_lanternfish_data(load_lanternfish_data(), n_days = 80))"
   ]
  },
  {
   "cell_type": "markdown",
   "id": "7b02c366-5f0a-4b3c-a6fb-b7e593303755",
   "metadata": {},
   "source": [
    "### Part 2"
   ]
  },
  {
   "cell_type": "code",
   "execution_count": null,
   "id": "af5c5595-e411-4170-b527-ecdbf604dc47",
   "metadata": {},
   "outputs": [],
   "source": [
    "# This part of the question asks us to compute the number of lanternfish\n",
    "# after 256 days. Doing this using the existing code would require too much memory.\n",
    "# Instead, we can keep track of the count of the number of lanternfish with k\n",
    "# days until giving birth. This will mean that the memory footprint of the lanternfish\n",
    "# tracker does not increase in proportion to the number of days."
   ]
  },
  {
   "cell_type": "code",
   "execution_count": 315,
   "id": "564d7fb5-adfd-43f4-8fe0-745da6b372fb",
   "metadata": {},
   "outputs": [],
   "source": [
    "def load_lanternfish_data_v2():\n",
    "    with open(os.path.join(\".\", \"data\", \"6.csv\")) as file:\n",
    "        data = np.array(file.readlines()[0].strip().split(\",\"), dtype = int)\n",
    "    data = pd.Series(data).value_counts()\n",
    "    for j in set(range(0, 9)) - set(data.index.values):\n",
    "        data[j] = 0\n",
    "    return data\n",
    "    \n",
    "def increment_lanternfish_data_v2(data, n_days = 1):\n",
    "    n_gave_birth = data[0]\n",
    "    for j in range(0, 8):\n",
    "        data[j] = data[j + 1]\n",
    "    data[8] = n_gave_birth\n",
    "    data[6] += n_gave_birth\n",
    "    if (n_days - 1) == 0:\n",
    "        return data.sum()\n",
    "    else:\n",
    "        return increment_lanternfish_data_v2(data, n_days - 1)"
   ]
  },
  {
   "cell_type": "code",
   "execution_count": 316,
   "id": "a8f1ddd7-b1a8-4518-a7c2-3485026e5a7d",
   "metadata": {},
   "outputs": [
    {
     "data": {
      "text/plain": [
       "362639"
      ]
     },
     "execution_count": 316,
     "metadata": {},
     "output_type": "execute_result"
    }
   ],
   "source": [
    "increment_lanternfish_data_v2(load_lanternfish_data_v2(), n_days = 80)"
   ]
  },
  {
   "cell_type": "code",
   "execution_count": 317,
   "id": "8bf5eeca-6dcc-4f3a-bbc9-52b6a311aac6",
   "metadata": {},
   "outputs": [
    {
     "data": {
      "text/plain": [
       "1639854996917"
      ]
     },
     "execution_count": 317,
     "metadata": {},
     "output_type": "execute_result"
    }
   ],
   "source": [
    "increment_lanternfish_data_v2(load_lanternfish_data_v2(), n_days = 256)"
   ]
  },
  {
   "cell_type": "markdown",
   "id": "61a7ea2f-8dbc-4995-8130-718889c596f1",
   "metadata": {},
   "source": [
    "# Day 7"
   ]
  },
  {
   "cell_type": "markdown",
   "id": "9c18744e-9655-4e52-8160-d77df86408c3",
   "metadata": {},
   "source": [
    "### Part 1"
   ]
  },
  {
   "cell_type": "code",
   "execution_count": 319,
   "id": "f87e912d-bc25-4231-9b2d-5b15d4ddc9e3",
   "metadata": {},
   "outputs": [],
   "source": [
    "# Given x1, x2, ..., xn,\n",
    "# minimize sum_i(|xi - a|)\n",
    "# w.r.t. a.\n",
    "# The solution to this problem is the median."
   ]
  },
  {
   "cell_type": "code",
   "execution_count": 329,
   "id": "27b81f6c-dcfa-42b5-92b7-1bb642130494",
   "metadata": {},
   "outputs": [],
   "source": [
    "import numpy as np"
   ]
  },
  {
   "cell_type": "code",
   "execution_count": 326,
   "id": "2b99e017-854d-4152-876c-8401582b4e6f",
   "metadata": {},
   "outputs": [],
   "source": [
    "def load_crab_data():\n",
    "    with open(os.path.join(\".\", \"data\", \"7.csv\")) as file:\n",
    "        data = np.array(file.readlines()[0].split(\",\"), dtype=float)\n",
    "    return data"
   ]
  },
  {
   "cell_type": "code",
   "execution_count": 328,
   "id": "d213c9ef-fcb5-4a4c-a431-0c4d4eda9ab3",
   "metadata": {},
   "outputs": [
    {
     "data": {
      "text/plain": [
       "340056.0"
      ]
     },
     "execution_count": 328,
     "metadata": {},
     "output_type": "execute_result"
    }
   ],
   "source": [
    "np.sum(np.abs(load_crab_data() - np.median(load_crab_data())))"
   ]
  },
  {
   "cell_type": "markdown",
   "id": "03cc778f-4f13-4db5-ad0f-374947e8c018",
   "metadata": {},
   "source": [
    "### Part 2"
   ]
  },
  {
   "cell_type": "code",
   "execution_count": 330,
   "id": "e5675fa9-34d2-4514-9034-312907878597",
   "metadata": {},
   "outputs": [],
   "source": [
    "from scipy.optimize import minimize_scalar"
   ]
  },
  {
   "cell_type": "code",
   "execution_count": 336,
   "id": "cea3e013-49c6-40b9-9f23-2a9a5143a131",
   "metadata": {},
   "outputs": [],
   "source": [
    "# Given x1, x2, ..., xn\n",
    "# minimize sum_i(0.5*|xi - a|(|xi - a| + 1))\n",
    "# w.r.t. a\n",
    "\n",
    "def cost_function(a: float, data: np.array):\n",
    "    return np.sum(0.5*np.abs(data - a)*(np.abs(data - a) + 1))\n",
    "\n",
    "def optimize_crab_location():\n",
    "    data = load_crab_data()\n",
    "    a_star = 0.\n",
    "    min_cost = np.inf\n",
    "    for a_dash in np.arange(np.min(data), np.max(data) + 1.):\n",
    "        cost_dash = cost_function(a_dash, data)\n",
    "        if  cost_dash < min_cost:\n",
    "            min_cost = cost_dash\n",
    "            a_star = a_dash\n",
    "    return a_star, min_cost"
   ]
  },
  {
   "cell_type": "code",
   "execution_count": 337,
   "id": "aabe5ff1-73a0-464e-86aa-b944e6eb3cae",
   "metadata": {},
   "outputs": [
    {
     "data": {
      "text/plain": [
       "(460.0, 96592275.0)"
      ]
     },
     "execution_count": 337,
     "metadata": {},
     "output_type": "execute_result"
    }
   ],
   "source": [
    "optimize_crab_location()"
   ]
  },
  {
   "cell_type": "markdown",
   "id": "62892213-411f-4f3a-a4e2-1810f9b20b46",
   "metadata": {},
   "source": [
    "# Day 8"
   ]
  },
  {
   "cell_type": "markdown",
   "id": "970a7f3b-ae4b-4974-b87b-33f6b8113b39",
   "metadata": {},
   "source": [
    "### Part 1"
   ]
  },
  {
   "cell_type": "code",
   "execution_count": 345,
   "id": "1daeb788-bdae-4a90-b42e-db3bb03e9b2a",
   "metadata": {},
   "outputs": [],
   "source": [
    "# Each display has segments a-g and display a number 0-9.\n",
    "# You make a note of all ten unique signal patterns you see,\n",
    "# and then write down a single four digit output value.\n",
    "# Use the signal patterns to figure out which pattern\n",
    "# corresponds to which digit, then decode the four-digit output\n",
    "# value.\n",
    "# Initially focus on easy digits - 1, 4, 7, 8\n",
    "\n",
    "def load_segments_data():\n",
    "    with open(os.path.join(\".\", \"data\", \"8.csv\")) as file:\n",
    "        lines = file.readlines()\n",
    "    signal_patterns, output_values = list(zip(*[line.split(\"|\") for line in lines]))\n",
    "    signal_patterns = [pattern.strip().split() for pattern in signal_patterns]\n",
    "    output_values = [output_value.strip().split() for output_value in output_values]\n",
    "    return signal_patterns, output_values"
   ]
  },
  {
   "cell_type": "code",
   "execution_count": 349,
   "id": "70ae6d48-5b7b-49e4-825c-069c7fa2468c",
   "metadata": {
    "tags": []
   },
   "outputs": [],
   "source": [
    "# In the output values, how many times do digits 1, 4, 7, or 8 appear?\n",
    "\n",
    "def count_1_4_7_8_in_output_values():\n",
    "    _, output_values = load_segments_data()\n",
    "    return sum([count_1_4_7_8_in_output_value(output_value) for output_value in output_values])\n",
    "        \n",
    "def count_1_4_7_8_in_output_value(output_value: list):\n",
    "    return sum([len(entry) in [2, 4, 3, 7] for entry in output_value])"
   ]
  },
  {
   "cell_type": "code",
   "execution_count": 350,
   "id": "26e901b2-b993-41bd-9d43-158e049bdab1",
   "metadata": {},
   "outputs": [
    {
     "data": {
      "text/plain": [
       "539"
      ]
     },
     "execution_count": 350,
     "metadata": {},
     "output_type": "execute_result"
    }
   ],
   "source": [
    "count_1_4_7_8_in_output_values()"
   ]
  },
  {
   "cell_type": "markdown",
   "id": "a989aed3-6685-45b3-be65-537889127cb8",
   "metadata": {},
   "source": [
    "### Part 2"
   ]
  },
  {
   "cell_type": "code",
   "execution_count": 427,
   "id": "3c7df1f1-0f42-4680-bcce-0a8915fda54d",
   "metadata": {},
   "outputs": [],
   "source": [
    "# Brute force solution - try each possible mapping.\n",
    "from itertools import permutations\n",
    "\n",
    "digit_to_segments = {\n",
    "    0: [\"A\", \"B\", \"C\", \"E\", \"F\", \"G\"],\n",
    "    1: [\"C\", \"F\"],\n",
    "    2: [\"A\", \"C\", \"D\", \"E\", \"G\"],\n",
    "    3: [\"A\", \"C\", \"D\", \"F\", \"G\"],\n",
    "    4: [\"B\", \"C\", \"D\", \"F\"],\n",
    "    5: [\"A\", \"B\", \"D\", \"F\", \"G\"],\n",
    "    6: [\"A\", \"B\", \"D\", \"E\", \"F\", \"G\"],\n",
    "    7: [\"A\", \"C\", \"F\"],\n",
    "    8: [\"A\", \"B\", \"C\", \"D\", \"E\", \"F\", \"G\"],\n",
    "    9: [\"A\", \"B\", \"C\", \"D\", \"F\", \"G\"]\n",
    "}\n",
    "segments_to_digit = {\n",
    "    \"\".join(v): str(k) for k, v in digit_to_segments.items()\n",
    "}\n",
    "\n",
    "def decode_wire_to_segment_mapping(signal_pattern: list):\n",
    "    wires = [wire for wire in \"abcdefg\"]\n",
    "    valid_segment_illuminations = [\n",
    "        illuminated_segments for illuminated_segments in digit_to_segments.values()\n",
    "    ]\n",
    "    # Search over all possible wire-to-segment mappings.\n",
    "    for segment_order in permutations([segment for segment in \"ABCDEFG\"]):\n",
    "        M = {wire: segment for wire, segment in zip(wires, segment_order)}\n",
    "        valid_mapping = True\n",
    "        \n",
    "        for digit_str in signal_pattern:\n",
    "            illuminated_segments = sorted([M[wire] for wire in digit_str])\n",
    "            \n",
    "            # If mapping generates nonsensical illumination, move on\n",
    "            # to next candidate mapping M.\n",
    "            if illuminated_segments not in valid_segment_illuminations:\n",
    "                valid_mapping = False\n",
    "                break\n",
    "        \n",
    "        if valid_mapping:\n",
    "            return M\n",
    "            # If not, move on to next digit str\n",
    "            \n",
    "def decode_output_value_from_signal_pattern(signal_pattern: list, output_value: list):\n",
    "    wire_to_segment = decode_wire_to_segment_mapping(signal_pattern)\n",
    "    \n",
    "    def _map_output_value_to_digits(output_value: list, wire_to_segment: dict):\n",
    "        digits = []\n",
    "        for digit_str in output_value:\n",
    "            segments = \"\".join(sorted([wire_to_segment[wire] for wire in digit_str]))\n",
    "            digits.append(segments_to_digit[segments])\n",
    "        \n",
    "        return int(\"\".join(digits))\n",
    "    \n",
    "    return _map_output_value_to_digits(output_value, wire_to_segment)"
   ]
  },
  {
   "cell_type": "code",
   "execution_count": 428,
   "id": "997fcef7-8b34-469b-9155-09d02e8b2b5e",
   "metadata": {},
   "outputs": [
    {
     "data": {
      "text/plain": [
       "1084606"
      ]
     },
     "execution_count": 428,
     "metadata": {},
     "output_type": "execute_result"
    }
   ],
   "source": [
    "signal_patterns, output_values = load_segments_data()\n",
    "\n",
    "sum([decode_output_value_from_signal_pattern(signal_pattern, output_value)\n",
    "        for signal_pattern, output_value in zip(signal_patterns, output_values)])"
   ]
  }
 ],
 "metadata": {
  "kernelspec": {
   "display_name": "Python 3",
   "language": "python",
   "name": "python3"
  },
  "language_info": {
   "codemirror_mode": {
    "name": "ipython",
    "version": 3
   },
   "file_extension": ".py",
   "mimetype": "text/x-python",
   "name": "python",
   "nbconvert_exporter": "python",
   "pygments_lexer": "ipython3",
   "version": "3.8.11"
  }
 },
 "nbformat": 4,
 "nbformat_minor": 5
}
